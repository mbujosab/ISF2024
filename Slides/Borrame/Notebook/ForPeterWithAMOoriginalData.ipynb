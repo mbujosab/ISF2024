{
 "cells": [
  {
   "cell_type": "markdown",
   "metadata": {},
   "source": [
    "#  GTA, TRF and AMO not detrended (i.e., with its original trend)"
   ]
  },
  {
   "cell_type": "markdown",
   "metadata": {},
   "source": [
    "For filtering (Kalman filter and fixed interval smoothing) I will use toolbok [E4](https://www.ucm.es/e-4/):"
   ]
  },
  {
   "cell_type": "code",
   "execution_count": 124,
   "metadata": {},
   "outputs": [
    {
     "name": "stdout",
     "output_type": "stream",
     "text": [
      "\r\n",
      "            XXXXXX 4 4      XXXXX  XX     XX  XX  XXXXXX (c)\r\n",
      "           XX      444     XX  XX XX     XX  XX  XX\r\n",
      "          XXXX       4    XXXXX  XX     XX  XX  XXXXXX\r\n",
      "         XX              XX     XX     XX  XX      XX\r\n",
      "        XXXXXX          XX     XXXXXX XXXXXX  XXXXXX\r\n",
      "\r\n",
      "    Toolbox for State Space Estimation of Econometric Models\r\n",
      " \r\n",
      "*********************** Options set by user ********************\r\n",
      "Filter. . . . . . . . . . . . . : KALMAN\r\n",
      "Scaled B and M matrices . . . . : NO\r\n",
      "Initial state vector. . . . . . : AUTOMATIC SELECTION\r\n",
      "Initial covariance of state v.  : IDEJONG\r\n",
      "Variance or Cholesky factor?  . : VARIANCE\r\n",
      "Optimization algorithm. . . . . : BFGS\r\n",
      "Maximum step length . . . . . . : 0.100000\r\n",
      "Stop tolerance. . . . . . . . . : 0.000010\r\n",
      "Max. number of iterations . . . :       75\r\n",
      "Verbose iterations. . . . . . . : YES\r\n",
      "****************************************************************\r\n",
      " \r\n",
      " \r\n"
     ]
    }
   ],
   "source": [
    "clear\n",
    "e4init"
   ]
  },
  {
   "cell_type": "markdown",
   "metadata": {},
   "source": [
    "It is also necessary to load the control toolbox"
   ]
  },
  {
   "cell_type": "code",
   "execution_count": 125,
   "metadata": {},
   "outputs": [],
   "source": [
    "pkg load control"
   ]
  },
  {
   "cell_type": "markdown",
   "metadata": {},
   "source": [
    "We load `gta.data` that I have download from [Global and Hemispheric Temperature Anomalies - Land and Marine Instrumental Records](https://cdiac.ess-dive.lbl.gov/trends/temp/jonescru/jones.html) "
   ]
  },
  {
   "cell_type": "code",
   "execution_count": 126,
   "metadata": {},
   "outputs": [],
   "source": [
    "load gta.data"
   ]
  },
  {
   "cell_type": "markdown",
   "metadata": {},
   "source": [
    "The fourteenth column of `gta` matrix contains the annual data for the years 1850--2015. For convenience I define the variable `y` with the annual data (i.e. periodicity one: `p=1`)."
   ]
  },
  {
   "cell_type": "code",
   "execution_count": 127,
   "metadata": {},
   "outputs": [],
   "source": [
    "y = gta(:,14);\n",
    "p = 1;"
   ]
  },
  {
   "cell_type": "markdown",
   "metadata": {},
   "source": [
    "Professor Peter C. Young has kindly sent me the following data sets. First:"
   ]
  },
  {
   "cell_type": "code",
   "execution_count": 128,
   "metadata": {},
   "outputs": [],
   "source": [
    "load data4Marcos.mat % GTA and TRF (1857-2015)"
   ]
  },
  {
   "cell_type": "markdown",
   "metadata": {},
   "source": [
    "I will use the second column corresponding to Total Radiative Force"
   ]
  },
  {
   "cell_type": "code",
   "execution_count": 129,
   "metadata": {},
   "outputs": [],
   "source": [
    "x = Z(:,2); # TRF (Total Radiative Force)"
   ]
  },
  {
   "cell_type": "markdown",
   "metadata": {},
   "source": [
    "and second: the AMO series:"
   ]
  },
  {
   "cell_type": "code",
   "execution_count": 130,
   "metadata": {},
   "outputs": [],
   "source": [
    "load amo4Marcos.mat  % AMO (1857-2015)"
   ]
  },
  {
   "cell_type": "markdown",
   "metadata": {},
   "source": [
    "But I have found AMO series with the original trend at [https://psl.noaa.gov/data/timeseries/AMO/](https://psl.noaa.gov/data/timeseries/AMO/)\n",
    "\n",
    "It is monthly data (Jan. 1856 to Oct. 2021). So I will use the mean value of each year from 1856 to 2020."
   ]
  },
  {
   "cell_type": "code",
   "execution_count": 131,
   "metadata": {},
   "outputs": [
    {
     "data": {
      "image/png": "[encoded data removed]",
      "text/plain": [
       "<IPython.core.display.Image object>"
      ]
     },
     "metadata": {},
     "output_type": "display_data"
    }
   ],
   "source": [
    "load AMO.data\n",
    "zz=mean(AMO(:,2:13),2);\n",
    "z=zz-mean(zz(112:141)); # (Relative to the 1961-1990 Mean; as GTA) \n",
    "plot(z)"
   ]
  },
  {
   "cell_type": "code",
   "execution_count": 132,
   "metadata": {},
   "outputs": [],
   "source": [
    "%plot gnuplot"
   ]
  },
  {
   "cell_type": "code",
   "execution_count": 133,
   "metadata": {},
   "outputs": [],
   "source": [
    "plot([x,y(7:end),z(1:end-5)])"
   ]
  },
  {
   "cell_type": "markdown",
   "metadata": {},
   "source": [
    "... better if the figures are inserted in the notebook itself in 'png' format..."
   ]
  },
  {
   "cell_type": "code",
   "execution_count": 134,
   "metadata": {},
   "outputs": [],
   "source": [
    "%plot --format png"
   ]
  },
  {
   "cell_type": "markdown",
   "metadata": {},
   "source": [
    "I'll try to improve the graph"
   ]
  },
  {
   "cell_type": "code",
   "execution_count": 135,
   "metadata": {},
   "outputs": [
    {
     "data": {
      "image/png": "[encoded data removed]",
      "text/plain": [
       "<IPython.core.display.Image object>"
      ]
     },
     "metadata": {},
     "output_type": "display_data"
    }
   ],
   "source": [
    "#y=Z(:,1);\n",
    "dates = gta(7:end,1);    # first column of gta contains the years\n",
    "yr = datenum (dates,1,1);\n",
    "plot(yr, y(7:end), 'r')\n",
    "set (gca(), \"xtick\", datenum (1856:15:2022,1,1));\n",
    "datetick (\"x\", \"YYYY\", \"keepticks\");\n",
    "set (gca(), \"xgrid\", \"on\");\n",
    "set(gca,'GridLineStyle','--')\n",
    "hold on\n",
    "plot(yr, x, 'k')\n",
    "plot(yr, z(1:end-5), 'b')\n",
    "ylim([-1.4, 2.5])\n",
    "title('RTF (black), GTA (red), AMO (blue) 1856-2015')\n",
    "box off;"
   ]
  },
  {
   "cell_type": "markdown",
   "metadata": {},
   "source": [
    "## A DHR model for GTA series (first attempt)"
   ]
  },
  {
   "cell_type": "markdown",
   "metadata": {},
   "source": [
    "I will define a range of AR orders to work with. Since the data are annual, it is better to use long autoregressive orders to avoid identifying noisy trends (I want the pseudo-spectrum of the trend component to be close to a spectral peak very close to the vertical axis, and this is only possible if we use a high order autoregressive polynomial)."
   ]
  },
  {
   "cell_type": "code",
   "execution_count": 136,
   "metadata": {},
   "outputs": [],
   "source": [
    "rgar = [51:70];"
   ]
  },
  {
   "cell_type": "markdown",
   "metadata": {},
   "source": [
    "If we do not indicate an a priori model, and also the periodicity of the data is annual `(p=1)`, then the `LDHR` toolbox will try to fit (_whenever possible_) an IRW trend plus an irregular component model."
   ]
  },
  {
   "cell_type": "code",
   "execution_count": 137,
   "metadata": {},
   "outputs": [
    {
     "name": "stdout",
     "output_type": "stream",
     "text": [
      "VAR0 =\n",
      "\n",
      "   4.469060408722981e-03   3.320119187237509e-07   5.758766178479622e-06\n",
      "\n",
      "P0 =\n",
      "\n",
      "   Inf    63\n",
      "\n",
      "TVP0 =\n",
      "\n",
      "   1   1\n",
      "   1   0\n",
      "\n",
      "oar0 = 60\n",
      "NVR = 7.429121299763819e-05\n"
     ]
    }
   ],
   "source": [
    "format long\n",
    "[VAR0,P0,TVP0,oar0]=autodhr(y,p,[],rgar,[inf,63]) # I already known there is a 63-years cycle\n",
    "NVR = VAR0(2)/VAR0(1)"
   ]
  },
  {
   "cell_type": "markdown",
   "metadata": {},
   "source": [
    "`TVP` indicates two unit roots for a component with periodicity `P=Inf`, that is, an IRW trend. VAR contains the estimated variances, `oar` is the order of the AR polinomial used to identify and adjust the model."
   ]
  },
  {
   "cell_type": "markdown",
   "metadata": {},
   "source": [
    "Using this model, we filter the series (by Fixed-Interval Smoothing) to obtain the components"
   ]
  },
  {
   "cell_type": "code",
   "execution_count": 138,
   "metadata": {},
   "outputs": [],
   "source": [
    "[Trend0,season0,cycle0,irreg0]=dhrfilt(y,P0,TVP0,VAR0,p,0);"
   ]
  },
  {
   "cell_type": "code",
   "execution_count": 139,
   "metadata": {},
   "outputs": [
    {
     "data": {
      "image/png": "[encoded data removed]",
      "text/plain": [
       "<IPython.core.display.Image object>"
      ]
     },
     "metadata": {},
     "output_type": "display_data"
    }
   ],
   "source": [
    "plot(Trend0)"
   ]
  },
  {
   "cell_type": "code",
   "execution_count": 202,
   "metadata": {},
   "outputs": [
    {
     "name": "stdout",
     "output_type": "stream",
     "text": [
      "\n",
      "\tAR(74)\n",
      "\n",
      "Número de retardos mayor que el 33% del tamaño de la muestra\n",
      "warning: Matlab-style short-circuit operation performed for operator |\n",
      "warning: called from\n",
      "    aresp at line 134 column 3\n",
      "\n",
      " \t RAICES \t    NORMA \t\t PERIODOS \n",
      "raices_polinomio =\n",
      "\n",
      " Column 1:\n",
      "\n",
      "   9.543366723500939e-01 + 2.989722190503688e-01i\n",
      "   7.670502098186747e-01 + 6.400574885857653e-01i\n",
      "   9.942294598136281e-01 + 9.509229840912489e-02i\n",
      "  -9.942646185714452e-01 + 9.282836391160564e-02i\n",
      "   8.246112975791158e-01 + 5.683905345845682e-01i\n",
      "   6.582217968377826e-01 + 7.504443942860495e-01i\n",
      "  -9.501690853617633e-01 + 3.186180657477738e-01i\n",
      "  -1.503911504597190e-01 + 9.911084986584189e-01i\n",
      "  -5.773242524251825e-01 + 8.132269486197329e-01i\n",
      "  -9.955164744751194e-01 + 3.056679277526860e-02i\n",
      "  -7.457165478632046e-01 + 6.601128880433395e-01i\n",
      "  -9.730463265704323e-01 + 2.119200668924170e-01i\n",
      "   2.464277753622266e-01 + 9.634466382885477e-01i\n",
      "  -3.514905487870699e-01 + 9.277909981996602e-01i\n",
      "  -9.041541453868549e-01 + 4.084033518078657e-01i\n",
      "   3.567936149306868e-01 + 9.427855379072979e-01i\n",
      "   5.595995334414798e-01 + 8.170832686239017e-01i\n",
      "   1.358374623150742e-01 + 9.803483594271055e-01i\n",
      "   4.053770220789769e-01 + 9.255571068807764e-01i\n",
      "   2.083823440595306e-02 + 1.011858785419309e+00i\n",
      "  -6.975210776829088e-01 + 6.982515468793179e-01i\n",
      "  -4.065315491782562e-01 + 8.991100115826796e-01i\n",
      "  -2.201495028400187e-01 + 9.896368293859591e-01i\n",
      "   9.522874212497137e-01 + 2.559544466445575e-01i\n",
      "   9.799970524897043e-01 + 9.586088955021188e-02i\n",
      "   6.977323538111766e-01 + 6.929100228196959e-01i\n",
      "   7.455099481765406e-02 + 9.800131930817697e-01i\n",
      "  -4.756579185218442e-01 + 8.595764413741359e-01i\n",
      "  -8.616290618973854e-01 + 4.705592957734129e-01i\n",
      "  -9.604833016550461e-02 + 9.767792174916484e-01i\n",
      "   4.916922767455219e-01 + 8.433528277074313e-01i\n",
      "   8.928759365736364e-01 + 3.943546742432650e-01i\n",
      "  -8.382767495966612e-01 + 5.894137479131191e-01i\n",
      "   8.480051200284824e-01 + 4.577137307057461e-01i\n",
      "  -5.994834255100185e-01 + 7.486868429223489e-01i\n",
      "   7.314294674859976e-01 + 5.342846936132599e-01i\n",
      "  -7.012544027471173e-01 + 4.086917980575376e-01i\n",
      "\n",
      " Column 2:\n",
      "\n",
      "   1.000071433426709e+00 +                     0i\n",
      "   9.990193256777318e-01 +                     0i\n",
      "   9.987666213776013e-01 +                     0i\n",
      "   9.985886224514712e-01 +                     0i\n",
      "   1.001524633696268e+00 +                     0i\n",
      "   9.982097588922455e-01 +                     0i\n",
      "   1.002167033282408e+00 +                     0i\n",
      "   1.002453766639411e+00 +                     0i\n",
      "   9.973170821758031e-01 +                     0i\n",
      "   9.959856323120013e-01 +                     0i\n",
      "   9.959127445303296e-01 +                     0i\n",
      "   9.958560480329971e-01 +                     0i\n",
      "   9.944627058364128e-01 +                     0i\n",
      "   9.921399811654389e-01 +                     0i\n",
      "   9.921129050607764e-01 +                     0i\n",
      "   1.008040799840195e+00 +                     0i\n",
      "   9.903417115789080e-01 +                     0i\n",
      "   9.897144648834918e-01 +                     0i\n",
      "   1.010438760206244e+00 +                     0i\n",
      "   1.012073334123272e+00 +                     0i\n",
      "   9.869604229812292e-01 +                     0i\n",
      "   9.867455160300852e-01 +                     0i\n",
      "   1.013827824474058e+00 +                     0i\n",
      "   9.860851948120666e-01 +                     0i\n",
      "   9.846743284121233e-01 +                     0i\n",
      "   9.833385669640322e-01 +                     0i\n",
      "   9.828447026069926e-01 +                     0i\n",
      "   9.824062876518842e-01 +                     0i\n",
      "   9.817487922808659e-01 +                     0i\n",
      "   9.814901535171806e-01 +                     0i\n",
      "   9.762198968538365e-01 +                     0i\n",
      "   9.760855737125511e-01 +                     0i\n",
      "   1.024751909070353e+00 +                     0i\n",
      "   9.636464823113781e-01 +                     0i\n",
      "   9.591206213121788e-01 +                     0i\n",
      "   9.057865089171205e-01 +                     0i\n",
      "   8.116567767053505e-01 +                     0i\n",
      "\n",
      " Column 3:\n",
      "\n",
      "   2.069607751671370e+01 +                     0i\n",
      "   9.035469557884831e+00 +                     0i\n",
      "   6.589314145960449e+01 +                     0i\n",
      "   2.061075291643468e+00 +                     0i\n",
      "   1.041129390814649e+01 +                     0i\n",
      "   7.385267354130695e+00 +                     0i\n",
      "   2.229623083568427e+00 +                     0i\n",
      "   3.650069421316723e+00 +                     0i\n",
      "   2.871463280090354e+00 +                     0i\n",
      "   2.019733732837147e+00 +                     0i\n",
      "   2.599568007005569e+00 +                     0i\n",
      "   2.146519026825655e+00 +                     0i\n",
      "   4.758591414879506e+00 +                     0i\n",
      "   3.250592890952309e+00 +                     0i\n",
      "   2.312265437520879e+00 +                     0i\n",
      "   5.196976869909206e+00 +                     0i\n",
      "   6.475548150520757e+00 +                     0i\n",
      "   4.384292873138668e+00 +                     0i\n",
      "   5.425979829321126e+00 +                     0i\n",
      "   4.053131297568426e+00 +                     0i\n",
      "   2.667259102420540e+00 +                     0i\n",
      "   3.148778492458301e+00 +                     0i\n",
      "   3.510773415725221e+00 +                     0i\n",
      "   2.392928553585067e+01 +                     0i\n",
      "   6.443808452212657e+01 +                     0i\n",
      "   8.035478206883884e+00 +                     0i\n",
      "   4.203161829312756e+00 +                     0i\n",
      "   3.026264825039537e+00 +                     0i\n",
      "   2.378438126327259e+00 +                     0i\n",
      "   3.765062774836040e+00 +                     0i\n",
      "   6.024406542668388e+00 +                     0i\n",
      "   1.510731832673840e+01 +                     0i\n",
      "   2.484678332202564e+00 +                     0i\n",
      "   1.269478100366617e+01 +                     0i\n",
      "   2.797535030225548e+00 +                     0i\n",
      "   9.959367080067079e+00 +                     0i\n",
      "   2.403744664966153e+00 +                     0i\n",
      "\n"
     ]
    },
    {
     "data": {
      "image/png": "[encoded data removed]",
      "text/plain": [
       "<IPython.core.display.Image object>"
      ]
     },
     "metadata": {},
     "output_type": "display_data"
    },
    {
     "data": {
      "image/png": "[encoded data removed]",
      "text/plain": [
       "<IPython.core.display.Image object>"
      ]
     },
     "metadata": {},
     "output_type": "display_data"
    }
   ],
   "source": [
    "[ARSPT0, S0, LAGS0, AR0, ROOTS0, NORM0, P0] = aresp(y-Trend0(:,2),[73:80],0,2);"
   ]
  },
  {
   "cell_type": "code",
   "execution_count": 203,
   "metadata": {},
   "outputs": [
    {
     "name": "stdout",
     "output_type": "stream",
     "text": [
      "n = 37.00\n",
      "ans =\n",
      "\n",
      "    1.00   65.89    1.00\n",
      "    3.00   23.93    0.99\n",
      "    4.00   20.70    1.00\n",
      "    7.00   10.41    1.00\n",
      "    9.00    9.04    1.00\n",
      "   11.00    7.39    1.00\n",
      "   12.00    6.48    0.99\n",
      "   14.00    5.43    1.01\n",
      "   15.00    5.20    1.01\n",
      "   16.00    4.76    0.99\n",
      "   17.00    4.38    0.99\n",
      "   19.00    4.05    1.01\n",
      "   21.00    3.65    1.00\n",
      "   22.00    3.51    1.01\n",
      "   23.00    3.25    0.99\n",
      "   24.00    3.15    0.99\n",
      "   26.00    2.87    1.00\n",
      "   28.00    2.67    0.99\n",
      "   29.00    2.60    1.00\n",
      "   30.00    2.48    1.02\n",
      "   33.00    2.31    0.99\n",
      "   34.00    2.23    1.00\n",
      "   35.00    2.15    1.00\n",
      "   36.00    2.06    1.00\n",
      "   37.00    2.02    1.00\n",
      "\n"
     ]
    }
   ],
   "source": [
    "[s,i]=sort(P0,'descend');\n",
    "format bank\n",
    "n=27;\n",
    "n=length(P0)\n",
    "R=[[1:n]',[P0,NORM0](i(1:n),:)];\n",
    "R(R(:,3)>.985,:)"
   ]
  },
  {
   "cell_type": "markdown",
   "metadata": {},
   "source": [
    "Let's draw them (to make the figure clearer, I will move down the irregular component)."
   ]
  },
  {
   "cell_type": "code",
   "execution_count": 204,
   "metadata": {},
   "outputs": [
    {
     "name": "stdout",
     "output_type": "stream",
     "text": [
      "PaP =\r\n",
      "\r\n",
      "     Inf   63.00   21.00    9.00    5.25    4.20    3.50    2.86    2.52    2.03\r\n",
      "\r\n"
     ]
    }
   ],
   "source": [
    "PaP = 63./[0,1,3,7,12,15,18,22,25,31] "
   ]
  },
  {
   "cell_type": "code",
   "execution_count": 205,
   "metadata": {},
   "outputs": [
    {
     "name": "stdout",
     "output_type": "stream",
     "text": [
      "ans =\r\n",
      "\r\n",
      " Columns 1 through 10:\r\n",
      "\r\n",
      "     Inf   63.00   21.00   10.50    9.00    5.25    4.20    3.50    2.86    2.62\r\n",
      "\r\n",
      " Column 11:\r\n",
      "\r\n",
      "    2.03\r\n",
      "\r\n"
     ]
    }
   ],
   "source": [
    "format bank\n",
    "%PaP=63./[0,1,3,4,6,7,10,12,16,17,18,22]\n",
    "%PaP=63./[0,1,3,6,7,12,15,18,22,25,31]\n",
    "63./[0,1,3,6,7,12,15,18,22,24,31]\n",
    "%63./[0,1,3,6,7,12,15,18,22]"
   ]
  },
  {
   "cell_type": "code",
   "execution_count": 207,
   "metadata": {},
   "outputs": [
    {
     "name": "stdout",
     "output_type": "stream",
     "text": [
      "PaP =\r\n",
      "\r\n",
      " Columns 1 through 10:\r\n",
      "\r\n",
      "     Inf   63.00   21.00   10.50    9.00    5.25    4.20    3.50    2.86    2.62\r\n",
      "\r\n",
      " Columns 11 and 12:\r\n",
      "\r\n",
      "    2.25    2.03\r\n",
      "\r\n"
     ]
    },
    {
     "data": {
      "image/png": "[encoded data removed]",
      "text/plain": [
       "<IPython.core.display.Image object>"
      ]
     },
     "metadata": {},
     "output_type": "display_data"
    }
   ],
   "source": [
    "[arespt,w]=esptarma(1,AR0);\n",
    "per=63./[0,1,3,7,12,15,18,22,25,31];   % selected harmonics\n",
    "per=63./[0,1,3,6,7,12,15,18,22,24,28,31];   % selected harmonics\n",
    "%per=63./[0,1,3,6,7,12,15,18,22];   % selected harmonics\n",
    "PaP=per\n",
    "semilogy(w,arespt);\n",
    "set(gca,'XTick',2*pi./per)\n",
    "set(gca,'XTickLabel',{'Inf','63','21','10.5','9','5.25','4.2','3.50','2.86','2.62','2.25','2.03'})\n",
    "%set(gca,'XTickLabel',{'Inf','63','21','10.5','9','5.25','4.2','3.50','2.86'})\n",
    "set (gca(), \"xgrid\", \"on\");\n",
    "set(gca,'GridLineStyle','--')\n",
    "title(sprintf('f(w): Ar-Espectro de la Tendencia inicial de GTA. AR(%g)',LAGS0))\n",
    "xlabel('period (in years)')\n",
    "ylabel('f(w) (Escala logarítmica)')"
   ]
  },
  {
   "cell_type": "code",
   "execution_count": 208,
   "metadata": {
    "scrolled": false
   },
   "outputs": [
    {
     "name": "stdout",
     "output_type": "stream",
     "text": [
      "warning: Matlab-style short-circuit operation performed for operator &\n",
      "warning: called from\n",
      "    dhrgraph at line 68 column 3\n",
      "    autodhr at line 451 column 31\n",
      "\n",
      "\n",
      "AR  NN R2T63.0      21.0      10.59.0       5.2       4.2       3.5       2.9       2.6       2.2       2.0\n",
      "61  0  0.8070.0001-I  0.0019-R  0.0015-R  0.0018-R  0.0042-R  0.0017-R  0.0051-R  0.0002-R  0.0007-R  0.0008-R  0.0009-R  0.0039-R\n",
      "\n",
      "60  0  0.7990.0000-I  0.0010-R  0.0010-R  0.0022-R  0.0027-R  0.0008-R  0.0039-R  0.0004-R  0.0007-R  0.0002-R  0.0003-R  0.0007-R\n",
      "63  0  0.7960.0001-I  0.0001-R  0.0011-R  0.0016-R  0.0050-R  0.0030-R  0.0034-R  0.0001-R  0.0010-R  0.0004-R  0.0005-R  0.0045-R\n",
      "58  0  0.7930.0000-I  0.0022-R  0.0010-R  0.0031-R  0.0040-R  0.0022-R  0.0059-R  0.0008-R  0.0010-R  0.0012-R  0.0008-R  0.0014-R\n",
      "59  0  0.7850.0000-I  0.0011-R  0.0009-R  0.0028-R  0.0027-R  0.0012-R  0.0052-R  0.0004-R  0.0001-R  0.0005-R  0.0005-R  0.0035-R\n",
      "66  1  0.3860.0000-I  0.0000-R  0.0000-S  0.0149-R  0.0330-R  0.0070-R  0.0226-R  0.0021-R  0.0054-R  0.0034-R  0.0034-R  0.0078-R\n",
      "53  1  0.2800.0000-I  0.0015-R  0.0117-R  0.0737-R  0.0004-S  0.0392-R  0.0002-I  0.0125-R  0.0017-R  0.0255-A  0.0036-R  0.0123-R\n",
      "54  1  0.2680.0000-I  0.0000-R  0.0071-R  0.0001-S  0.0421-R  0.0166-R  0.0001-I  0.0065-R  0.0001-R  0.0088-R  0.0030-R  0.0095-R\n",
      "67  1  0.2020.0000-I  0.0000-R  0.0000-S  0.0127-R  0.0256-R  0.0104-R  0.0208-R  0.0000-R  0.0020-R  0.0025-R  0.0014-R  0.0060-R\n",
      "55  1  0.1640.0000-I  0.0000-R  0.0131-R  0.7099-A  0.0291-R  0.0160-R  0.0004-S  0.0231-R  0.0054-R  0.0000--  0.0080-R  0.0163-R\n",
      "64  1  0.1080.0000-I  0.0000-R  0.0000-S  0.0043-R  0.0340-R  0.0085-R  0.0173-R  0.0006-R  0.0012-R  0.0034-R  0.0018-R  0.0000-S\n",
      "68  1  0.0360.0007-I  0.0000-R  0.0064-R  0.0135-R  0.0284-R  0.0000-I  0.0316-R  0.0030-R  0.0012-R  0.0002-R  0.0041-R  0.0069-R\n",
      "70  1 -0.0600.0006-I  0.0000-R  0.0000-I  0.0224-R  0.0437-R  0.0166-R  0.0001-I  0.0022-R  0.0016-R  0.0046-R  0.0066-R  0.0000-I\n",
      "52  1 -0.5040.0000-I  0.0000-R  0.0023-R  0.0146-R  0.0075-R  0.0062-R  0.0001-S  0.0044-R  0.0000-R  0.0000-R  0.0000-R  0.0009-R\n",
      "69  1 -0.5550.0007-I  0.0000-R  0.0070-R  0.0134-R  0.0316-R  0.0000-I  0.0469-R  0.0056-R  0.0001-S  0.0076-R  0.0031-R  0.0086-R\n",
      "62  1 -0.6470.0001-I  0.0000-R  0.0042-R  0.0073-R  0.0264-R  0.0150-R  0.0196-R  0.0006-R  0.0000-R  0.0031-R  0.0008-R  0.0069-R\n",
      "65  1 -1.0040.0000-I  0.0000-R  0.0042-R  0.0094-R  0.0253-R  0.0038-R  0.0142-R  0.0005-R  0.0006-R  0.0000-R  0.0012-R  0.0047-R\n",
      "57  1 -1.6240.0000-I  0.0125-R  0.0073-R  0.0258-R  0.0448-R  0.0199-R  0.0518-R  0.0062-R  0.0037-R  0.0072-R  0.0047-R  0.0132-R\n",
      "56  1 -1.6710.0000-I  0.0000-R  0.0090-R  0.1155-A  0.0388-R  0.0150-R  0.0431-R  0.0048-R  0.0011-R  0.0132-A  0.0028-R  0.0109-R\n",
      "51  1 -2.2370.0000-I  0.0000-R  0.0118-R  0.0304-R  0.0234-R  0.0081-R  0.0002-S  0.0164-R  0.0000-R  0.0000-S  0.0006-R  0.0040-R\n",
      "\n",
      "VAR =\n",
      "\n",
      " Columns 1 through 3:\n",
      "\n",
      "   3.974880436665595e-03   2.792526789793337e-07   7.428638023902766e-06\n",
      "\n",
      " Columns 4 through 6:\n",
      "\n",
      "   6.109880598048291e-06   7.333082576398096e-06   1.677309392805660e-05\n",
      "\n",
      " Columns 7 through 9:\n",
      "\n",
      "   6.606259209410385e-06   2.034519113125931e-05   9.535910196095501e-07\n",
      "\n",
      " Columns 10 through 12:\n",
      "\n",
      "   2.978083930447680e-06   3.320093121805645e-06   3.586285778972739e-06\n",
      "\n",
      " Column 13:\n",
      "\n",
      "   1.569011883558222e-05\n",
      "\n",
      "P =\n",
      "\n",
      " Columns 1 through 3:\n",
      "\n",
      "                     Inf   6.300000000000000e+01   2.100000000000000e+01\n",
      "\n",
      " Columns 4 through 6:\n",
      "\n",
      "   1.050000000000000e+01   9.000000000000000e+00   5.250000000000000e+00\n",
      "\n",
      " Columns 7 through 9:\n",
      "\n",
      "   4.200000000000000e+00   3.500000000000000e+00   2.863636363636364e+00\n",
      "\n",
      " Columns 10 through 12:\n",
      "\n",
      "   2.625000000000000e+00   2.250000000000000e+00   2.032258064516129e+00\n",
      "\n",
      "TVP =\n",
      "\n",
      "   1   1   1   1   1   1   1   1   1   1   1   1\n",
      "   1   0   0   0   0   0   0   0   0   0   0   0\n",
      "\n",
      "oar = 61\n",
      "k =\n",
      "\n",
      "  70x1 struct array containing the fields:\n",
      "\n",
      "    P\n",
      "    TVP\n",
      "    VAR\n",
      "    NVR\n",
      "    proc\n",
      "    adjust\n",
      "\n",
      "kk = 0\n",
      "kkk =\n",
      "\n",
      " Columns 1 through 3:\n",
      "\n",
      "   7.025435945278147e-05   1.868895968638096e-03   1.537123114871269e-03\n",
      "\n",
      " Columns 4 through 6:\n",
      "\n",
      "   1.844856139257762e-03   4.219773197034080e-03   1.662001993436606e-03\n",
      "\n",
      " Columns 7 through 9:\n",
      "\n",
      "   5.118441033744972e-03   2.399043278920581e-04   7.492260403550409e-04\n",
      "\n",
      " Columns 10 through 12:\n",
      "\n",
      "   8.352686765569152e-04   9.022373971029839e-04   3.947318437770214e-03\n",
      "\n"
     ]
    },
    {
     "data": {
      "image/png": "[encoded data removed]",
      "text/plain": [
       "<IPython.core.display.Image object>"
      ]
     },
     "metadata": {},
     "output_type": "display_data"
    },
    {
     "data": {
      "image/png": "[encoded data removed]",
      "text/plain": [
       "<IPython.core.display.Image object>"
      ]
     },
     "metadata": {},
     "output_type": "display_data"
    },
    {
     "data": {
      "image/png": "[encoded data removed]",
      "text/plain": [
       "<IPython.core.display.Image object>"
      ]
     },
     "metadata": {},
     "output_type": "display_data"
    }
   ],
   "source": [
    "format long\n",
    "[VAR,P,TVP,oar,k,kk,kkk]=autodhr(y,1,[],rgar,PaP)"
   ]
  },
  {
   "cell_type": "code",
   "execution_count": 209,
   "metadata": {},
   "outputs": [
    {
     "data": {
      "image/png": "[encoded data removed]",
      "text/plain": [
       "<IPython.core.display.Image object>"
      ]
     },
     "metadata": {},
     "output_type": "display_data"
    },
    {
     "data": {
      "image/png": "[encoded data removed]",
      "text/plain": [
       "<IPython.core.display.Image object>"
      ]
     },
     "metadata": {},
     "output_type": "display_data"
    },
    {
     "data": {
      "image/png": "[encoded data removed]",
      "text/plain": [
       "<IPython.core.display.Image object>"
      ]
     },
     "metadata": {},
     "output_type": "display_data"
    }
   ],
   "source": [
    "[Trend,season,cycle,irreg]=dhrfilt(y,P,TVP,VAR,p,1,1);"
   ]
  },
  {
   "cell_type": "code",
   "execution_count": 210,
   "metadata": {
    "scrolled": false
   },
   "outputs": [
    {
     "data": {
      "image/png": "[encoded data removed]",
      "text/plain": [
       "<IPython.core.display.Image object>"
      ]
     },
     "metadata": {},
     "output_type": "display_data"
    }
   ],
   "source": [
    "plot(Trend(:,2))"
   ]
  },
  {
   "cell_type": "markdown",
   "metadata": {},
   "source": [
    "# Repetimos con AMO"
   ]
  },
  {
   "cell_type": "code",
   "execution_count": 211,
   "metadata": {},
   "outputs": [
    {
     "name": "stdout",
     "output_type": "stream",
     "text": [
      "VARZ0 =\n",
      "\n",
      "   6.746313809970563e-03   2.807454906931503e-06   1.165185044843739e-04\n",
      "\n",
      "PZ0 =\n",
      "\n",
      "   Inf    63\n",
      "\n",
      "TVPZ0 =\n",
      "\n",
      "   1   1\n",
      "   1   0\n",
      "\n",
      "oarZ0 = 60\n",
      "NVR = 7.429121299763819e-05\n"
     ]
    }
   ],
   "source": [
    "format long\n",
    "[VARZ0,PZ0,TVPZ0,oarZ0]=autodhr(z,p,[],rgar,[inf,63],[1,1;1,0],1) # I already known there is a 63-years cycle\n",
    "NVR = VAR0(2)/VAR0(1)"
   ]
  },
  {
   "cell_type": "code",
   "execution_count": 212,
   "metadata": {},
   "outputs": [],
   "source": [
    "[TrendZ0,seasonZ0,cycleZ0,irregZ0]=dhrfilt(z,PZ0,TVPZ0,VARZ0,p,0);"
   ]
  },
  {
   "cell_type": "code",
   "execution_count": 213,
   "metadata": {},
   "outputs": [
    {
     "data": {
      "image/png": "[encoded data removed]",
      "text/plain": [
       "<IPython.core.display.Image object>"
      ]
     },
     "metadata": {},
     "output_type": "display_data"
    }
   ],
   "source": [
    "plot(TrendZ0(:,2))"
   ]
  },
  {
   "cell_type": "code",
   "execution_count": 214,
   "metadata": {},
   "outputs": [
    {
     "name": "stdout",
     "output_type": "stream",
     "text": [
      "\n",
      "\tAR(73)\n",
      "\n",
      "Número de retardos mayor que el 33% del tamaño de la muestra\n",
      "warning: Matlab-style short-circuit operation performed for operator |\n",
      "warning: called from\n",
      "    aresp at line 134 column 3\n",
      "\n",
      " \t RAICES \t    NORMA \t\t PERIODOS \n",
      "raices_polinomio =\n",
      "\n",
      " Column 1:\n",
      "\n",
      "  -9.930909978850450e-01 + 1.102845577351275e-01i\n",
      "   9.965631799320780e-01 + 9.767656694353857e-02i\n",
      "   7.645809564961803e-01 + 6.477048837648407e-01i\n",
      "  -9.267400073550697e-01 + 3.701399020204136e-01i\n",
      "   6.571841577362738e-01 + 7.569526993401597e-01i\n",
      "   7.125125818609861e-02 + 9.937411436285819e-01i\n",
      "   9.645238391163737e-01 + 2.783471183540956e-01i\n",
      "  -5.763438986513341e-01 + 8.118572341913195e-01i\n",
      "  -1.821987024652228e-01 + 9.889315940653688e-01i\n",
      "  -7.063013241225655e-01 + 7.189010497966033e-01i\n",
      "  -3.377135658596951e-01 + 9.318932980740159e-01i\n",
      "  -7.732815912698199e-01 + 6.190395512642356e-01i\n",
      "   9.688307143218935e-01 + 2.038352035303901e-01i\n",
      "  -8.318661231771705e-01 + 5.753984223554376e-01i\n",
      "  -8.658811886926323e-01 + 4.752055658003762e-01i\n",
      "  -9.395129561122543e-01 + 3.033479119770539e-01i\n",
      "   4.979026570453368e-01 + 8.514855954084342e-01i\n",
      "  -4.859420862290744e-01 + 8.576967909762218e-01i\n",
      "   8.779694633727608e-01 + 4.473574918110844e-01i\n",
      "   5.639014995736013e-01 + 8.078903526499572e-01i\n",
      "  -1.006034127262027e-01 + 9.791500269315060e-01i\n",
      "   8.138824894144157e-01 + 5.520632490971814e-01i\n",
      "   4.205719646241793e-01 + 8.885778750949500e-01i\n",
      "   3.462827244082474e-01 + 9.189735973450709e-01i\n",
      "  -4.183710514586979e-01 + 8.883176836483967e-01i\n",
      "  -6.158005586981071e-01 + 7.643128440881412e-01i\n",
      "   9.120342305505946e-01 + 3.575576017355741e-01i\n",
      "   1.577230160235348e-01 + 9.638427821048522e-01i\n",
      "  -9.744182118217491e-01 +                     0i\n",
      "  -9.480889235864911e-01 + 2.123723331970420e-01i\n",
      "  -2.647565153478977e-01 + 9.298928900499683e-01i\n",
      "   7.769671670441713e-01 + 5.580530418964508e-01i\n",
      "   3.926979420037724e-03 + 9.537155853301136e-01i\n",
      "   2.586862620156523e-01 + 9.172419942590471e-01i\n",
      "   8.677446331116923e-01 + 9.829634446892579e-02i\n",
      "  -8.432783353508432e-01 +                     0i\n",
      "  -8.016421190558886e-01 +                     0i\n",
      "   3.900074956667249e-01 + 6.198646729514616e-01i\n",
      "\n",
      " Column 2:\n",
      "\n",
      "   9.991958835759619e-01 +                     0i\n",
      "   1.001338545810662e+00 +                     0i\n",
      "   1.002050725008190e+00 +                     0i\n",
      "   9.979231374710961e-01 +                     0i\n",
      "   1.002431247626434e+00 +                     0i\n",
      "   9.962922273777629e-01 +                     0i\n",
      "   1.003884134011400e+00 +                     0i\n",
      "   9.956326924229629e-01 +                     0i\n",
      "   1.005575489419209e+00 +                     0i\n",
      "   1.007809644653169e+00 +                     0i\n",
      "   9.911990574859004e-01 +                     0i\n",
      "   9.905424702788926e-01 +                     0i\n",
      "   9.900412835896015e-01 +                     0i\n",
      "   1.011476441316822e+00 +                     0i\n",
      "   9.877097563046654e-01 +                     0i\n",
      "   9.872712648525860e-01 +                     0i\n",
      "   9.863745612498641e-01 +                     0i\n",
      "   9.857907974918277e-01 +                     0i\n",
      "   9.853725712107873e-01 +                     0i\n",
      "   9.852267369119804e-01 +                     0i\n",
      "   9.843047403584561e-01 +                     0i\n",
      "   9.834523565374903e-01 +                     0i\n",
      "   9.830826097211254e-01 +                     0i\n",
      "   9.820510159054563e-01 +                     0i\n",
      "   9.819076554244341e-01 +                     0i\n",
      "   9.815214983539607e-01 +                     0i\n",
      "   9.796192506555343e-01 +                     0i\n",
      "   9.766624075898395e-01 +                     0i\n",
      "   9.744182118217491e-01 +                     0i\n",
      "   9.715835604490984e-01 +                     0i\n",
      "   9.668489020444943e-01 +                     0i\n",
      "   9.566092076885562e-01 +                     0i\n",
      "   9.537236700789840e-01 +                     0i\n",
      "   9.530222758088839e-01 +                     0i\n",
      "   8.732942915364208e-01 +                     0i\n",
      "   8.432783353508432e-01 +                     0i\n",
      "   8.016421190558886e-01 +                     0i\n",
      "   7.323510493263821e-01 +                     0i\n",
      "\n",
      " Column 3:\n",
      "\n",
      "   2.072978466834615e+00 +                     0i\n",
      "   6.431011192129277e+01 +                     0i\n",
      "   8.939841037800276e+00 +                     0i\n",
      "   2.275194430559978e+00 +                     0i\n",
      "   7.341608081255853e+00 +                     0i\n",
      "   4.190972868332058e+00 +                     0i\n",
      "   2.236393376755254e+01 +                     0i\n",
      "   2.871471844960837e+00 +                     0i\n",
      "   3.584265307663389e+00 +                     0i\n",
      "   2.676709664509184e+00 +                     0i\n",
      "   3.275101177216779e+00 +                     0i\n",
      "   2.547383459305113e+00 +                     0i\n",
      "   3.029960307783166e+01 +                     0i\n",
      "   2.477145792666774e+00 +                     0i\n",
      "   2.380298854836440e+00 +                     0i\n",
      "   2.220770746434622e+00 +                     0i\n",
      "   6.031846481887888e+00 +                     0i\n",
      "   3.011684616842936e+00 +                     0i\n",
      "   1.333308500538722e+01 +                     0i\n",
      "   6.535325539430660e+00 +                     0i\n",
      "   3.755229649911609e+00 +                     0i\n",
      "   1.054192200816310e+01 +                     0i\n",
      "   5.566604423838358e+00 +                     0i\n",
      "   5.190846121065394e+00 +                     0i\n",
      "   3.124483793419995e+00 +                     0i\n",
      "   2.793770677048725e+00 +                     0i\n",
      "   1.681664030351719e+01 +                     0i\n",
      "   4.460607204648449e+00 +                     0i\n",
      "   2.000000000000000e+00 +                     0i\n",
      "   2.150869910670445e+00 +                     0i\n",
      "   3.399672089139041e+00 +                     0i\n",
      "   1.008753146944071e+01 +                     0i\n",
      "   4.010512773753686e+00 +                     0i\n",
      "   4.848474515458718e+00 +                     0i\n",
      "   5.570341177871700e+01 +                     0i\n",
      "   2.000000000000000e+00 +                     0i\n",
      "   2.000000000000000e+00 +                     0i\n",
      "   6.225934037913978e+00 +                     0i\n",
      "\n"
     ]
    },
    {
     "data": {
      "image/png": "[encoded data removed]",
      "text/plain": [
       "<IPython.core.display.Image object>"
      ]
     },
     "metadata": {},
     "output_type": "display_data"
    },
    {
     "data": {
      "image/png": "[encoded data removed]",
      "text/plain": [
       "<IPython.core.display.Image object>"
      ]
     },
     "metadata": {},
     "output_type": "display_data"
    }
   ],
   "source": [
    "[ARSPT0, S0, LAGS0, AR0, ROOTS0, NORM0, P0] = aresp(z-TrendZ0(:,2),[73:80],0,2);"
   ]
  },
  {
   "cell_type": "code",
   "execution_count": 215,
   "metadata": {},
   "outputs": [
    {
     "name": "stdout",
     "output_type": "stream",
     "text": [
      "n = 38.00\n",
      "ans =\n",
      "\n",
      "    1.00   64.31    1.00\n",
      "    3.00   30.30    0.99\n",
      "    4.00   22.36    1.00\n",
      "    6.00   13.33    0.99\n",
      "    9.00    8.94    1.00\n",
      "   10.00    7.34    1.00\n",
      "   11.00    6.54    0.99\n",
      "   13.00    6.03    0.99\n",
      "   18.00    4.19    1.00\n",
      "   21.00    3.58    1.01\n",
      "   23.00    3.28    0.99\n",
      "   25.00    3.01    0.99\n",
      "   26.00    2.87    1.00\n",
      "   28.00    2.68    1.01\n",
      "   29.00    2.55    0.99\n",
      "   30.00    2.48    1.01\n",
      "   31.00    2.38    0.99\n",
      "   32.00    2.28    1.00\n",
      "   33.00    2.22    0.99\n",
      "   35.00    2.07    1.00\n",
      "\n"
     ]
    }
   ],
   "source": [
    "[s,i]=sort(P0,'descend');\n",
    "format bank\n",
    "n=27;\n",
    "n=length(P0)\n",
    "R=[[1:n]',[P0,NORM0](i(1:n),:)];\n",
    "R(R(:,3)>.985,:)"
   ]
  },
  {
   "cell_type": "code",
   "execution_count": 216,
   "metadata": {},
   "outputs": [
    {
     "data": {
      "image/png": "[encoded data removed]",
      "text/plain": [
       "<IPython.core.display.Image object>"
      ]
     },
     "metadata": {},
     "output_type": "display_data"
    }
   ],
   "source": [
    "[arespt,w]=esptarma(1,AR0);\n",
    "per=63./[0,1,3,7,12,15,18,22,25,31];   % selected harmonics\n",
    "per=63./[0,1,3,6,7,12,15,18,22];   % selected harmonics\n",
    "#PaP=per\n",
    "semilogy(w,arespt);\n",
    "set(gca,'XTick',2*pi./per)\n",
    "set(gca,'XTickLabel',{'Inf','63','21','10.5','9','5.25','4.2','3.50','2.86'})\n",
    "set (gca(), \"xgrid\", \"on\");\n",
    "set(gca,'GridLineStyle','--')\n",
    "title(sprintf('f(w): Ar-Espectro de la Tendencia inicial de GTA. AR(%g)',LAGS0))\n",
    "xlabel('period (in years)')\n",
    "ylabel('f(w) (Escala logarítmica)')"
   ]
  },
  {
   "cell_type": "code",
   "execution_count": 217,
   "metadata": {},
   "outputs": [
    {
     "name": "stdout",
     "output_type": "stream",
     "text": [
      "warning: Matlab-style short-circuit operation performed for operator &\r\n",
      "warning: called from\r\n",
      "    dhrgraph at line 68 column 3\r\n",
      "    autodhr at line 451 column 31\r\n",
      "\r\n",
      "\r\n",
      "AR  NN R2T63.0      21.0      10.59.0       5.2       4.2       3.5       2.9       2.6       2.2       2.0\r\n",
      "55  0  0.4380.0018-I  0.0273-R  0.0099-R  0.0108-R  0.0025-R  0.0063-R  0.0019-R  0.0079-R  0.0009-R  0.0017-R  0.0035-R  0.0013-R\r\n",
      "64  0  0.4330.0007-I  0.0078-R  0.0043-R  0.0040-R  0.0013-R  0.0005-R  0.0002-R  0.0003-R  0.0007-R  0.0008-R  0.0009-R  0.0008-R\r\n",
      "68  0  0.4330.0012-I  0.0019-R  0.0056-R  0.0058-R  0.0013-R  0.0019-R  0.0003-R  0.0006-R  0.0003-R  0.0011-R  0.0045-R  0.0012-R\r\n",
      "59  0  0.4300.0017-I  0.0095-R  0.0143-R  0.0284-R  0.0090-R  0.0097-R  0.0038-R  0.0226-R  0.0056-R  0.0048-R  0.0095-R  0.0032-R\r\n",
      "\r\n",
      "67  0  0.4270.0011-I  0.0045-R  0.0040-R  0.0032-R  0.0007-R  0.0008-R  0.0009-R  0.0019-R  0.0001-R  0.0013-R  0.0035-R  0.0016-R\r\n",
      "\r\n",
      "66  0  0.4250.0013-I  0.0071-R  0.0031-R  0.0020-R  0.0004-R  0.0005-R  0.0009-R  0.0094-R  0.0004-R  0.0021-R  0.0019-R  0.0026-R\r\n",
      "58  0  0.4180.0010-I  0.0067-R  0.0036-R  0.0149-R  0.0039-R  0.0073-R  0.0005-R  0.0212-R  0.0016-R  0.0014-R  0.0050-R  0.0014-R\r\n",
      "54  0  0.4170.0016-I  0.0183-R  0.0055-R  0.0051-R  0.0001-R  0.0040-R  0.0014-R  0.0054-R  0.0006-R  0.0007-R  0.0048-R  0.0009-R\r\n",
      "57  0  0.4040.0004-I  0.0000-R  0.0013-R  0.0069-R  0.0021-R  0.0014-R  0.0010-R  0.0007-R  0.0003-R  0.0010-R  0.0011-R  0.0007-R\r\n",
      "65  1 -0.0520.0044-I  0.0740-R  0.0211-R  0.0118-R  0.0005-R  0.0095-R  0.0000-R  0.0225-R  0.0026-R  0.0061-R  0.0133-R  0.0035-R\r\n",
      "62  1 -0.0600.0055-I  0.1301-R  0.1231-R  0.0174-R  0.0027-R  0.0273-R  0.0000-R  0.0976-R  0.0109-R  0.0149-R  0.0171-R  0.0067-R\r\n",
      "63  1 -0.0630.0076-I  0.2002-R  0.0996-R  0.0220-R  0.0066-R  0.0266-R  0.0000-R  0.1106-R  0.0095-R  0.0220-R  0.0374-R  0.0104-R\r\n",
      "61  1 -0.1540.0035-I  0.0939-R  0.1813-R  0.0247-R  0.0000-R  0.0423-R  0.0006-R  0.0259-R  0.0169-R  0.0116-R  0.0167-R  0.0063-R\r\n",
      "56  1 -0.1790.0075-I  0.1000-R  0.1484-R  0.0480-R  0.0000-R  0.0336-R  0.0037-R  0.0621-R  0.0133-R  0.0110-R  0.0277-R  0.0039-R\r\n",
      "53  1 -0.1960.0038-I  0.2702-R  0.0319-R  0.0316-R  0.0000-R  0.0185-R  0.0027-R  0.0339-R  0.0088-R  0.0066-R  0.0073-R  0.0020-R\r\n",
      "52  1 -0.1990.0059-I  0.1834-R  0.0226-R  0.0187-R  0.0000-R  0.0086-R  0.0015-R  0.0216-R  0.0042-R  0.0016-R  0.0123-R  0.0002-R\r\n",
      "51  1 -0.2020.0026-I  0.4808-R  0.0277-R  0.0388-R  0.0000-R  0.0213-R  0.0033-R  0.0321-R  0.0059-R  0.0128-R  0.0158-R  0.0062-R\r\n",
      "70  1 -0.2110.0048-I  0.0000-R  0.0498-R  0.0078-R  0.0044-R  0.0293-R  0.0042-R  0.0623-R  0.0030-R  0.0179-R  0.0727-R  0.0123-R\r\n",
      "60  1 -0.2430.0031-I  0.0313-R  0.1056-R  0.0168-R  0.0000-R  0.0243-R  0.0000-R  0.0165-R  0.0021-R  0.0070-R  0.0081-R  0.0014-R\r\n",
      "69  1 -0.4050.0048-I  0.0000-R  0.0345-R  0.0195-R  0.0000-R  0.0324-R  0.0013-R  0.0439-R  0.0029-R  0.0199-R  0.0232-R  0.0099-R\r\n",
      "\r\n",
      "VAR =\r\n",
      "\r\n",
      " Columns 1 through 3:\r\n",
      "\r\n",
      "   7.320619526400708e-03   8.011133268751434e-06   3.304446384969339e-05\r\n",
      "\r\n",
      " Columns 4 through 6:\r\n",
      "\r\n",
      "   2.949399789415660e-05   2.333289294095095e-05   5.217275176770717e-06\r\n",
      "\r\n",
      " Columns 7 through 9:\r\n",
      "\r\n",
      "   5.503115102264607e-06   6.366145984295833e-06   1.425146377231726e-05\r\n",
      "\r\n",
      " Columns 10 through 12:\r\n",
      "\r\n",
      "   8.427959028300205e-07   9.630410684317763e-06   2.567869246846718e-05\r\n",
      "\r\n",
      " Column 13:\r\n",
      "\r\n",
      "   1.142917600150133e-05\r\n",
      "\r\n",
      "P =\r\n",
      "\r\n",
      " Columns 1 through 3:\r\n",
      "\r\n",
      "                     Inf   6.300000000000000e+01   2.100000000000000e+01\r\n",
      "\r\n",
      " Columns 4 through 6:\r\n",
      "\r\n",
      "   1.050000000000000e+01   9.000000000000000e+00   5.250000000000000e+00\r\n",
      "\r\n",
      " Columns 7 through 9:\r\n",
      "\r\n",
      "   4.200000000000000e+00   3.500000000000000e+00   2.863636363636364e+00\r\n",
      "\r\n",
      " Columns 10 through 12:\r\n",
      "\r\n",
      "   2.625000000000000e+00   2.250000000000000e+00   2.032258064516129e+00\r\n",
      "\r\n",
      "TVP =\r\n",
      "\r\n",
      "   1   1   1   1   1   1   1   1   1   1   1   1\r\n",
      "   1   0   0   0   0   0   0   0   0   0   0   0\r\n",
      "\r\n",
      "oar = 67\r\n",
      "k =\r\n",
      "\r\n",
      "  70x1 struct array containing the fields:\r\n",
      "\r\n",
      "    P\r\n",
      "    TVP\r\n",
      "    VAR\r\n",
      "    NVR\r\n",
      "    proc\r\n",
      "    adjust\r\n",
      "\r\n",
      "kk = 0\r\n",
      "kk =\r\n",
      "\r\n",
      " Columns 1 through 3:\r\n",
      "\r\n",
      "   1.094324495332737e-03   4.513888985832896e-03   4.028893700566046e-03\r\n",
      "\r\n",
      " Columns 4 through 6:\r\n",
      "\r\n",
      "   3.187283925466198e-03   7.126821928055955e-04   7.517280583178040e-04\r\n",
      "\r\n",
      " Columns 7 through 9:\r\n",
      "\r\n",
      "   8.696184744115289e-04   1.946756517111907e-03   1.151263086123523e-04\r\n",
      "\r\n",
      " Columns 10 through 12:\r\n",
      "\r\n",
      "   1.315518536318838e-03   3.507721221661753e-03   1.561230707357995e-03\r\n",
      "\r\n"
     ]
    },
    {
     "data": {
      "image/png": "[encoded data removed]",
      "text/plain": [
       "<IPython.core.display.Image object>"
      ]
     },
     "metadata": {},
     "output_type": "display_data"
    },
    {
     "data": {
      "image/png": "[encoded data removed]",
      "text/plain": [
       "<IPython.core.display.Image object>"
      ]
     },
     "metadata": {},
     "output_type": "display_data"
    },
    {
     "data": {
      "image/png": "[encoded data removed]",
      "text/plain": [
       "<IPython.core.display.Image object>"
      ]
     },
     "metadata": {},
     "output_type": "display_data"
    }
   ],
   "source": [
    "format long\n",
    "[VAR,P,TVP,oar,k,kk,kk]=autodhr(z,1,[],rgar,PaP,[1,1;1,0],1)"
   ]
  },
  {
   "cell_type": "code",
   "execution_count": 220,
   "metadata": {},
   "outputs": [
    {
     "data": {
      "image/png": "[encoded data removed]",
      "text/plain": [
       "<IPython.core.display.Image object>"
      ]
     },
     "metadata": {},
     "output_type": "display_data"
    },
    {
     "data": {
      "image/png": "[encoded data removed]",
      "text/plain": [
       "<IPython.core.display.Image object>"
      ]
     },
     "metadata": {},
     "output_type": "display_data"
    },
    {
     "data": {
      "image/png": "[encoded data removed]",
      "text/plain": [
       "<IPython.core.display.Image object>"
      ]
     },
     "metadata": {},
     "output_type": "display_data"
    }
   ],
   "source": [
    "[TrendZ,seasonZ,cycleZ,irregZ]=dhrfilt(z,P,TVP,VAR,p,1,1);"
   ]
  },
  {
   "cell_type": "code",
   "execution_count": 221,
   "metadata": {},
   "outputs": [
    {
     "data": {
      "image/png": "[encoded data removed]",
      "text/plain": [
       "<IPython.core.display.Image object>"
      ]
     },
     "metadata": {},
     "output_type": "display_data"
    }
   ],
   "source": [
    "plot([Trend(2:end,2),TrendZ(:,2)])"
   ]
  },
  {
   "cell_type": "code",
   "execution_count": null,
   "metadata": {},
   "outputs": [],
   "source": []
  },
  {
   "cell_type": "code",
   "execution_count": null,
   "metadata": {},
   "outputs": [],
   "source": []
  },
  {
   "cell_type": "code",
   "execution_count": null,
   "metadata": {},
   "outputs": [],
   "source": []
  },
  {
   "cell_type": "code",
   "execution_count": null,
   "metadata": {},
   "outputs": [],
   "source": []
  },
  {
   "cell_type": "code",
   "execution_count": null,
   "metadata": {},
   "outputs": [],
   "source": [
    "# plot(yr, Trend0, '-b', \"linewidth\", 4)\n",
    "set (gca(), \"xtick\", datenum (1850:15:2015,1,1));\n",
    "datetick (\"x\", \"YYYY\", \"keepticks\");\n",
    "set (gca(), \"xgrid\", \"on\");\n",
    "set(gca,'GridLineStyle','--')\n",
    "hold on\n",
    "plot(yr, y,'-r')\n",
    "plot(yr, irreg0-1)\n",
    "plot(yr, -ones(length(y)), ':k')\n",
    "ylim([-1.3, 1])\n",
    "title('Estimated trend and irregular component (shifted -1 units)')\n",
    "box off;"
   ]
  },
  {
   "cell_type": "markdown",
   "metadata": {},
   "source": [
    "The trend shows a cyclical behaviour. We can fit an AR polynomial and observe the periodicity associated with the roots of higher modulus and lower frequencies; we then find a cycle of about 63 years."
   ]
  },
  {
   "cell_type": "code",
   "execution_count": null,
   "metadata": {},
   "outputs": [],
   "source": [
    "[ARSPT0, S0, LAGS0, AR0, ROOTS0, NORM0, P0] = aresp(Trend0,rgar,0);"
   ]
  },
  {
   "cell_type": "markdown",
   "metadata": {},
   "source": [
    "I will show the periodicities of the roots associated to lower frequencies and norms greater than 0.959."
   ]
  },
  {
   "cell_type": "code",
   "execution_count": null,
   "metadata": {},
   "outputs": [],
   "source": [
    "[s,i]=sort(P0,'descend');\n",
    "format bank\n",
    "n=27;\n",
    "n=length(P0)\n",
    "R=[[1:n]',[P0,NORM0](i(1:n),:)];\n",
    "R(R(:,3)>.959,:)"
   ]
  },
  {
   "cell_type": "code",
   "execution_count": null,
   "metadata": {},
   "outputs": [],
   "source": [
    "63./[0,1,3,7,12,15,18,22,25,30,31]"
   ]
  },
  {
   "cell_type": "code",
   "execution_count": null,
   "metadata": {},
   "outputs": [],
   "source": [
    "#63./[1:31] % all harmonics\n",
    "#lcm(21*4, 9*4, 5.25*4)/4\n",
    "#63./[3,7,12]\n",
    "\n",
    "[arespt,w]=esptarma(1,AR0);\n",
    "per=63./[0,1,3,7,12,15,18,22,25,31];   % selected harmonics\n",
    "semilogy(w,arespt);\n",
    "set(gca,'XTick',2*pi./per)\n",
    "set(gca,'XTickLabel',{'Inf','63','21','9','5.25','4.2','3.5','2.86','2.52','2,03'})\n",
    "set (gca(), \"xgrid\", \"on\");\n",
    "set(gca,'GridLineStyle','--')\n",
    "title(sprintf('f(w): Ar-Espectro de la Tendencia inicial de GTA. AR(%g)',LAGS0))\n",
    "xlabel('period (in years)')\n",
    "ylabel('f(w) (Escala logarítmica)')"
   ]
  },
  {
   "cell_type": "markdown",
   "metadata": {},
   "source": [
    "From this exploration of the data, it appears that there is a 63 year cycle and several harmonics\n",
    "\n",
    "Hence, `PaP` will be the \"_a priori_\" periodicity of our DHR components model"
   ]
  },
  {
   "cell_type": "code",
   "execution_count": null,
   "metadata": {},
   "outputs": [],
   "source": [
    "format bank\n",
    "#PaP = 63./[0,1,3,7,12,15,18,22,25,31] \n",
    "PaP = 63./[0,1,3,4,6,7,12,17,18,22,27,28]"
   ]
  },
  {
   "cell_type": "markdown",
   "metadata": {},
   "source": [
    "Let's try to identify and estimate the parameters of a DHR model \n",
    "\n",
    "I will only provide \"_a priori_\" periodicities `PaP`, the range `rgar` of AR polinomials to explore, the periodicity of the data, i.e. `p=1` (anual data), and the data itself `y`."
   ]
  },
  {
   "cell_type": "markdown",
   "metadata": {},
   "source": [
    "It seems to work! Using the roots of an AR polynomial of order 60, it identifies an IRW trend and three RW cyclic components."
   ]
  },
  {
   "cell_type": "markdown",
   "metadata": {},
   "source": [
    "Let's obtain the components by filtering the series:"
   ]
  },
  {
   "cell_type": "code",
   "execution_count": null,
   "metadata": {},
   "outputs": [],
   "source": [
    "plot(Trend)"
   ]
  },
  {
   "cell_type": "code",
   "execution_count": null,
   "metadata": {},
   "outputs": [],
   "source": [
    "plot([cycle(:,1),cycle(:,1)]) % full cycle and and the harmonic of period 63"
   ]
  },
  {
   "cell_type": "markdown",
   "metadata": {},
   "source": [
    "As can be seen in the following figure, the Trend-Cycle fits the evolution of the series quite well"
   ]
  },
  {
   "cell_type": "code",
   "execution_count": null,
   "metadata": {},
   "outputs": [],
   "source": [
    "plot(yr, Trend(:,1)+cycle(:,1), '-k', \"linewidth\", 4)\n",
    "set (gca(), \"xtick\", datenum (1850:15:2022,1,1));\n",
    "datetick (\"x\", \"YYYY\", \"keepticks\");\n",
    "set (gca(), \"xgrid\", \"on\");\n",
    "set(gca,'GridLineStyle','--')\n",
    "hold on\n",
    "plot(yr, y,'-r')\n",
    "plot(yr, irreg-1)\n",
    "plot(yr, -ones(length(y)), ':k')\n",
    "ylim([-1.3, 1])\n",
    "title('Estimated Trend-Cycle and irregular component (shifted -1 units)')\n",
    "box off;"
   ]
  },
  {
   "cell_type": "markdown",
   "metadata": {},
   "source": [
    "Although I think it is much more illustrative to plot the long-term Trend on the one hand, and the Cycle on the other.\n",
    "\n",
    "it seems that the _Cycle_ apparently replicates the behaviour of the [Atlantic Multidecadal Oscillation (AMO)](https://www.psl.noaa.gov/data/timeseries/AMO/) (but I need AMO data to check)."
   ]
  },
  {
   "cell_type": "code",
   "execution_count": null,
   "metadata": {},
   "outputs": [],
   "source": [
    "plot(yr, Trend(:,1), '-k', \"linewidth\", 4)\n",
    "set (gca(), \"xtick\", datenum (1850:15:2022,1,1));\n",
    "datetick (\"x\", \"YYYY\", \"keepticks\");\n",
    "set (gca(), \"xgrid\", \"on\");\n",
    "set(gca,'GridLineStyle','--')\n",
    "hold on\n",
    "plot(yr, y,'-r')\n",
    "plot(yr, irreg-1)\n",
    "plot(yr, -ones(length(y)), ':k')\n",
    "plot(yr, cycle(:,1)+0.7, '-b')\n",
    "plot(yr, cycle(:,2)+0.7,'--k')\n",
    "plot(yr, ones(length(y))*.7, ':k')\n",
    "ylim([-1.3, 1])\n",
    "title('Estimated Trend, Cycle (shifted +0.7 units) and irregular component (shifted -1 units)')\n",
    "box off;"
   ]
  },
  {
   "cell_type": "markdown",
   "metadata": {},
   "source": [
    "## A DHR model for AMO series (first attempt)"
   ]
  },
  {
   "cell_type": "markdown",
   "metadata": {},
   "source": [
    "Let's try the same with AMO series (Atlantic Multidecadal Oscillation)"
   ]
  },
  {
   "cell_type": "code",
   "execution_count": null,
   "metadata": {},
   "outputs": [],
   "source": [
    "yramon = datenum (dates(7:end),1,1);\n",
    "plot(yramon, amon(:,1), '-r', \"linewidth\", 1)\n",
    "set (gca(), \"xtick\", datenum (1857:15:2022,1,1));\n",
    "datetick (\"x\", \"YYYY\", \"keepticks\");\n",
    "set (gca(), \"xgrid\", \"on\");\n",
    "set(gca,'GridLineStyle','--')\n",
    "hold on\n",
    "ylim([-1.3, 1])\n",
    "title('Atlantic Multidecadal Oscillation 1857-2015')\n",
    "box off;"
   ]
  },
  {
   "cell_type": "code",
   "execution_count": null,
   "metadata": {
    "scrolled": true
   },
   "outputs": [],
   "source": [
    "[VARamo0,Pamo0,TVPamo0,oaramo0]=autodhr(amon,p,[],rgar)"
   ]
  },
  {
   "cell_type": "markdown",
   "metadata": {},
   "source": [
    "This AMO series is linearly detrended data. Nevertheless, DHR identify just only a trend component. When we see it it clear that this IRW trend captures a smooth cycle."
   ]
  },
  {
   "cell_type": "code",
   "execution_count": null,
   "metadata": {},
   "outputs": [],
   "source": [
    "[TrendAMO0,seasonAMO0,cycleAMO0,irregAMO0]=dhrfilt(amon,Pamo0,TVPamo0,VARamo0,p,2);"
   ]
  },
  {
   "cell_type": "code",
   "execution_count": null,
   "metadata": {},
   "outputs": [],
   "source": [
    "yramon = datenum (dates(7:end),1,1);\n",
    "plot(yramon, TrendAMO0(:,1)+cycleAMO0(:,1), '-b', \"linewidth\", 4)\n",
    "set (gca(), \"xtick\", datenum (1857:15:2022,1,1));\n",
    "datetick (\"x\", \"YYYY\", \"keepticks\");\n",
    "set (gca(), \"xgrid\", \"on\");\n",
    "set(gca,'GridLineStyle','--')\n",
    "hold on\n",
    "plot(yramon, amon,'-r')\n",
    "plot(yramon, irregAMO0-1)\n",
    "plot(yramon, -ones(length(amon)), ':k')\n",
    "ylim([-1.3, 1])\n",
    "title('Estimated trend and irregular component (shifted -1 units)')\n",
    "box off;"
   ]
  },
  {
   "cell_type": "markdown",
   "metadata": {},
   "source": [
    "# There is something suspicious"
   ]
  },
  {
   "cell_type": "markdown",
   "metadata": {},
   "source": [
    "It resembles the GTA cycle 63 component, but is not as regular as the GTA cycle. Mainly at the first part of the sample. Why? I guess both the \"Global Temperature\" and the Atlantic Ocean must be warmed by the sun and both must be affected by \"Radiative Forcing Inputs\". So why does the AMO show a different oscillation pattern?"
   ]
  },
  {
   "cell_type": "code",
   "execution_count": null,
   "metadata": {},
   "outputs": [],
   "source": [
    "plot(TrendAMO0)"
   ]
  },
  {
   "cell_type": "markdown",
   "metadata": {},
   "source": [
    "The AMO data has been linearly de-trended, but we have seen that the GTA has a non-linear trend. If we subtract a linear trend from the very first GTA trend, what does it look like?"
   ]
  },
  {
   "cell_type": "code",
   "execution_count": null,
   "metadata": {},
   "outputs": [],
   "source": [
    "plot(detrend(Trend0(7:end),1))"
   ]
  },
  {
   "cell_type": "markdown",
   "metadata": {},
   "source": [
    "__My guess:__ the cycles of GTA and AMO looks like no so similar due to the \"de-trending procedure\" of AMO data\n",
    "\n",
    "In fact, we can find in the AMO series some harmonics of the 63-year cycle (in particular those associated with the 21- and 9-year cycles)."
   ]
  },
  {
   "cell_type": "code",
   "execution_count": null,
   "metadata": {},
   "outputs": [],
   "source": [
    "[ARSPT, S, LAGS, AR, ROOTS, NORM, P] = aresp(amon,[58:70],0,0);\n",
    "\n",
    "[s,i]=sort(P,'descend');\n",
    "format bank\n",
    "n=length(P);\n",
    "R=[[1:n]',[P,NORM](i(1:n),:)];\n",
    "R(R(:,3)>.97,:)"
   ]
  },
  {
   "cell_type": "code",
   "execution_count": null,
   "metadata": {},
   "outputs": [],
   "source": [
    "63/30"
   ]
  },
  {
   "cell_type": "code",
   "execution_count": null,
   "metadata": {},
   "outputs": [],
   "source": [
    "[arespt,w]=esptarma(1,AR);\n",
    "per=63./[0,1,3,7,12,15,18,22,25,30]; % harmonics selected from the analysis of the GTA series\n",
    "semilogy(w,arespt);\n",
    "set(gca,'XTick',2*pi./per)\n",
    "set(gca,'XTickLabel',{'Inf','63','21','9','5.25','4.2','3.5','2.86','2.52','2.1'})\n",
    "set (gca(), \"xgrid\", \"on\");\n",
    "set(gca,'GridLineStyle','--')\n",
    "title(sprintf('f(w): Ar-Espectro de la Tendencia inicial de AMO. AR(%g)',LAGS))\n",
    "xlabel('period (in years)')\n",
    "ylabel('f(w) (Escala en logs)')"
   ]
  },
  {
   "cell_type": "markdown",
   "metadata": {},
   "source": [
    "Therefore, if my guess is correct, although the 63-year cycle of the AMO series is very much affected by the de-trending process, the other harmonics should be there. \n",
    "\n",
    "So, let's try with a DHR model for AMO that leaves the cycles longer that 21 year in the trend"
   ]
  },
  {
   "cell_type": "code",
   "execution_count": null,
   "metadata": {},
   "outputs": [],
   "source": [
    "format bank\n",
    "PaP = 63./[0,3,7,12,15,18,22,25]    # without 63 cycle for AMO"
   ]
  },
  {
   "cell_type": "code",
   "execution_count": null,
   "metadata": {
    "scrolled": false
   },
   "outputs": [],
   "source": [
    "format long\n",
    "[VAR,P,TVP,oar]=autodhr(amon,p,[],rgar,PaP,[1,1;1,0],1) % I will force the model"
   ]
  },
  {
   "cell_type": "code",
   "execution_count": null,
   "metadata": {},
   "outputs": [],
   "source": [
    "[TrendAMO,seasonAMO,cycleAMO,irregAMO]=dhrfilt(amon,P,TVP,VAR,p,2,0);"
   ]
  },
  {
   "cell_type": "code",
   "execution_count": null,
   "metadata": {},
   "outputs": [],
   "source": [
    "plot(TrendAMO)"
   ]
  },
  {
   "cell_type": "code",
   "execution_count": null,
   "metadata": {},
   "outputs": [],
   "source": [
    "plot(cycleAMO(:,1))"
   ]
  },
  {
   "cell_type": "code",
   "execution_count": null,
   "metadata": {},
   "outputs": [],
   "source": [
    "plot(irregAMO)"
   ]
  },
  {
   "cell_type": "code",
   "execution_count": null,
   "metadata": {},
   "outputs": [],
   "source": [
    "yramon = datenum (dates(7:end),1,1);\n",
    "plot(yramon, TrendAMO(:,1)+cycleAMO(:,1), '-k', \"linewidth\", 4)\n",
    "set (gca(), \"xtick\", datenum (1857:15:2022,1,1));\n",
    "datetick (\"x\", \"YYYY\", \"keepticks\");\n",
    "set (gca(), \"xgrid\", \"on\");\n",
    "set(gca,'GridLineStyle','--')\n",
    "hold on\n",
    "plot(yramon, amon,'-r')\n",
    "plot(yramon, irregAMO-1)\n",
    "plot(yramon, -ones(length(amon)), ':k')\n",
    "ylim([-1.3, 1])\n",
    "title('Estimated Trend-Cycle for AMO and irregular component (shifted -1 units)')\n",
    "box off;"
   ]
  },
  {
   "cell_type": "code",
   "execution_count": null,
   "metadata": {},
   "outputs": [],
   "source": [
    "yramon = datenum (dates(7:end),1,1);\n",
    "plot(yramon, TrendAMO(:,1), '-k', \"linewidth\", 4)\n",
    "set (gca(), \"xtick\", datenum (1857:15:2022,1,1));\n",
    "datetick (\"x\", \"YYYY\", \"keepticks\");\n",
    "set (gca(), \"xgrid\", \"on\");\n",
    "set(gca,'GridLineStyle','--')\n",
    "hold on\n",
    "plot(yramon, amon,'-r')\n",
    "plot(yramon, irregAMO-1)\n",
    "plot(yramon, -ones(length(amon)), ':k')\n",
    "plot(yramon, cycleAMO(:,1)+0.7, '-b')\n",
    "ylim([-1.3, 1])\n",
    "title('Estimated Trend, cycle and irregular components for AMO series (shifted -1 units)')\n",
    "box off;"
   ]
  },
  {
   "cell_type": "markdown",
   "metadata": {},
   "source": [
    "# Without the 63-year harmonic, both cycles look similar.\n",
    "\n",
    "The estimated cycles for the GTA and AMO series with 21-year oscillations or less are quite similar."
   ]
  },
  {
   "cell_type": "code",
   "execution_count": null,
   "metadata": {},
   "outputs": [],
   "source": [
    "plot(yramon, cycleAMO(:,1), '-k')\n",
    "set (gca(), \"xtick\", datenum (1857:15:2022,1,1));\n",
    "datetick (\"x\", \"YYYY\", \"keepticks\");\n",
    "set (gca(), \"xgrid\", \"on\");\n",
    "set(gca,'GridLineStyle','--')\n",
    "hold on\n",
    "plot(yramon, sum(cycle(7:end,3:7),2),'-b')\n",
    "title('Estimated cycle componentes for GTA and AMO series (only oscilations of 21 years or less)')\n",
    "box off;"
   ]
  },
  {
   "cell_type": "code",
   "execution_count": null,
   "metadata": {},
   "outputs": [],
   "source": [
    "plot(yramon, irregAMO, '-k')\n",
    "set (gca(), \"xtick\", datenum (1857:15:2022,1,1));\n",
    "datetick (\"x\", \"YYYY\", \"keepticks\");\n",
    "set (gca(), \"xgrid\", \"on\");\n",
    "set(gca,'GridLineStyle','--')\n",
    "hold on\n",
    "plot(yramon, irreg(7:end,1),'-b')\n",
    "title('Irregular components for GTA and AMO series')\n",
    "box off;"
   ]
  },
  {
   "cell_type": "code",
   "execution_count": null,
   "metadata": {},
   "outputs": [],
   "source": [
    "TC=Trend(:,1)+cycle(:,2);\n",
    "plot(yramon, TC(7:end), '-k')\n",
    "set (gca(), \"xtick\", datenum (1857:15:2022,1,1));\n",
    "datetick (\"x\", \"YYYY\", \"keepticks\");\n",
    "set (gca(), \"xgrid\", \"on\");\n",
    "set(gca,'GridLineStyle','--')\n",
    "hold on\n",
    "plot(yramon, TrendAMO,'-r')\n",
    "ylim([-1.3, 1])\n",
    "title('Estimated Trend-Cycle components (including oscilations of 63 years or more) for GTA and AMO')\n",
    "box off;"
   ]
  },
  {
   "cell_type": "markdown",
   "metadata": {},
   "source": [
    "If we linearly de-trend the trend-cycle of GTA we get the following graph"
   ]
  },
  {
   "cell_type": "code",
   "execution_count": null,
   "metadata": {
    "scrolled": false
   },
   "outputs": [],
   "source": [
    "TC=Trend(:,1)+cycle(:,2);\n",
    "plot(yramon, TrendAMO,'-r')\n",
    "set (gca(), \"xtick\", datenum (1857:15:2022,1,1));\n",
    "datetick (\"x\", \"YYYY\", \"keepticks\");\n",
    "set (gca(), \"xgrid\", \"on\");\n",
    "set(gca,'GridLineStyle','--')\n",
    "hold on\n",
    "plot(yramon, (detrend(TC,1))(7:end),'-b')\n",
    "ylim([-1.3, 1])\n",
    "title('Estimated Cycle components (with oscilations of 63 years or more)')\n",
    "box off;"
   ]
  },
  {
   "cell_type": "markdown",
   "metadata": {},
   "source": [
    "Therefore, perhaps the modelling of the TRF, GTA and AMO will improve and simplify by using the AMO data before the linear de-trending process (I do not know if the original AMO data are available). Otherwise, since the frequency and phase of the AMO cycles are modified,  that modelling is affected."
   ]
  },
  {
   "cell_type": "markdown",
   "metadata": {},
   "source": [
    "# The following is no correct, but it ilustrates my point"
   ]
  },
  {
   "cell_type": "markdown",
   "metadata": {},
   "source": [
    "Imagine that the GTA linear trend is the same line that was subtracted from the original AMO data. Then we can add the GTA linear trend to the AMO data to recover the original Ocenan Atlantic surface temperature data (I am sure those linear trend are not the same, but imagine both are the same line)."
   ]
  },
  {
   "cell_type": "code",
   "execution_count": null,
   "metadata": {},
   "outputs": [],
   "source": [
    "z=y(1:end)-detrend(y(1:end),1);\n",
    "A=z(7:end)+amon;"
   ]
  },
  {
   "cell_type": "markdown",
   "metadata": {},
   "source": [
    "So, let's plot GTA and AMO (with its \"recovered\" linear trend)  (`A` is the new AMO)"
   ]
  },
  {
   "cell_type": "code",
   "execution_count": null,
   "metadata": {},
   "outputs": [],
   "source": [
    "plot([y(7:end),A])"
   ]
  },
  {
   "cell_type": "markdown",
   "metadata": {},
   "source": [
    "Now we can estimate the DHR model trying to get its 63-years cycle"
   ]
  },
  {
   "cell_type": "code",
   "execution_count": null,
   "metadata": {},
   "outputs": [],
   "source": [
    "PaP = 63./[0,1,3,7,12,15,18,22,25,31];\n",
    "format long\n",
    "[VARw,Pw,TVPw,oarw]=autodhr(A,p,[],rgar,PaP,[1,1;1,0],1);"
   ]
  },
  {
   "cell_type": "code",
   "execution_count": null,
   "metadata": {},
   "outputs": [],
   "source": [
    "[TrendW,seasonW,cycleW,irregW]=dhrfilt(A,Pw,TVPw,VARw,p,2,0);"
   ]
  },
  {
   "cell_type": "code",
   "execution_count": null,
   "metadata": {},
   "outputs": [],
   "source": [
    "J=2;\n",
    "plot([cycle(7:end,J),cycleW(:,J)])"
   ]
  },
  {
   "cell_type": "markdown",
   "metadata": {},
   "source": [
    "As you can see, the cycles of period 63 are shifted but they are very similar. What I mean is that __I am afraid that by subtracting a linear trend the authors of the data have modified the properties of the cycle.__\n",
    "\n",
    "As you can see, the cycles of period 63 are shifted but they are very similar. What I mean is that I am afraid that by subtracting a linear trend the authors of the data have modified the properties of the cycle. \n",
    "\n",
    "So probably, the original AMO cycles are more similar to the GTA cycles than it seems in the published data (something that we can see with the harmonics corresponding to the cycles shorter than 63 years; since the spectral peaks for those harmonics are not so close to zero, the de-trending filter is not so harmful for them).\n",
    "\n",
    "I don't know if I have made myself clear."
   ]
  },
  {
   "cell_type": "code",
   "execution_count": null,
   "metadata": {},
   "outputs": [],
   "source": [
    "plot([cycle(7:end,1),cycleW(:,1)])"
   ]
  },
  {
   "cell_type": "code",
   "execution_count": null,
   "metadata": {},
   "outputs": [],
   "source": [
    "plot([Trend(7:end,1),TrendW(:,1)])"
   ]
  },
  {
   "cell_type": "code",
   "execution_count": null,
   "metadata": {},
   "outputs": [],
   "source": [
    "[ARSPT0, S0, LAGS0, AR0, ROOTS0, NORM0, P0] = aresp(y,rgar,0);\n",
    "\n",
    "[s,i]=sort(P0,'descend');\n",
    "format bank\n",
    "n=27;\n",
    "n=length(P0)\n",
    "R=[[1:n]',[P0,NORM0](i(1:n),:)];\n",
    "R(R(:,3)>.98,:)"
   ]
  },
  {
   "cell_type": "code",
   "execution_count": null,
   "metadata": {},
   "outputs": [],
   "source": [
    "63/31"
   ]
  },
  {
   "cell_type": "code",
   "execution_count": null,
   "metadata": {},
   "outputs": [],
   "source": [
    "[aresptGTA,w]=esptarma(1,AR0);\n",
    "per=63./[0,1,3,7,12,15,18,22,25, 31];   % selected harmonics\n",
    "semilogy(w,aresptGTA);\n",
    "set(gcf, 'PaperSize', [6 4.5]);\n",
    "set(gca(),'xlim', [0 pi])\n",
    "set(gca,'XTick',2*pi./per)\n",
    "set(gca,'XTickLabel',{'\\infty','63','21','9','5.25','4.2','3.5','2.86363','2.52','2.03'})\n",
    "set (gca(), \"xgrid\", \"on\");\n",
    "set(gca,'GridLineStyle','--')\n",
    "title(sprintf('AR-spectrum of GTA. AR(%g)',LAGS0))\n",
    "xlabel('period (in years)')\n",
    "ylabel('AR-spectrum (in logs)')\n",
    "print -dpdf -color GTAspectrum.pdf"
   ]
  },
  {
   "cell_type": "code",
   "execution_count": null,
   "metadata": {},
   "outputs": [],
   "source": [
    "[ARSPT0, S0, LAGS0, AR0, ROOTS0, NORM0, P0] = aresp(amon,rgar,0);\n",
    "[s,i]=sort(P0,'descend');\n",
    "format bank\n",
    "n=27;\n",
    "n=length(P0)\n",
    "R=[[1:n]',[P0,NORM0](i(1:n),:)];\n",
    "R(R(:,3)>.97,:)"
   ]
  },
  {
   "cell_type": "code",
   "execution_count": null,
   "metadata": {},
   "outputs": [],
   "source": [
    "format long\n",
    "63./[0,1,3,7,12,15,18,22,25, 63/2]"
   ]
  },
  {
   "cell_type": "code",
   "execution_count": null,
   "metadata": {},
   "outputs": [],
   "source": [
    "63/25"
   ]
  },
  {
   "cell_type": "code",
   "execution_count": null,
   "metadata": {},
   "outputs": [],
   "source": [
    "[aresptAMO,w]=esptarma(1,AR0);\n",
    "per=63./[0,1,3,7,12,15,18,22,25,63/2];   % selected harmonics\n",
    "semilogy(w,aresptAMO);\n",
    "set(gcf, 'PaperSize', [6 4.5]);\n",
    "set(gca(),'xlim', [0 pi])\n",
    "set(gca,'XTick',2*pi./per)\n",
    "set(gca,'XTickLabel',{'\\infty','63','21','9','5.25','4.2','3.5','2.86363','2.52','2'})\n",
    "set (gca(), \"xgrid\", \"on\");\n",
    "set(gca,'GridLineStyle','--')\n",
    "title(sprintf('AR-spectrum of AMO with added trend. AR(%g)',LAGS0))\n",
    "xlabel('period (in years)')\n",
    "ylabel('AR-spectrum (in logs)')\n",
    "print -dpdf -color AMOspectrum.pdf"
   ]
  },
  {
   "cell_type": "code",
   "execution_count": null,
   "metadata": {},
   "outputs": [],
   "source": [
    "[ARSPT0, S0, LAGS0, AR0, ROOTS0, NORM0, P0] = aresp(A,rgar,0);\n",
    "[s,i]=sort(P0,'descend');\n",
    "format bank\n",
    "n=27;\n",
    "n=length(P0)\n",
    "R=[[1:n]',[P0,NORM0](i(1:n),:)];\n",
    "R(R(:,3)>.97,:)"
   ]
  },
  {
   "cell_type": "code",
   "execution_count": null,
   "metadata": {},
   "outputs": [],
   "source": [
    "[aresptAMOT,w]=esptarma(1,AR0);\n",
    "per=63./[0,1,3,7,12,15,18,22,25, 63/2];   % selected harmonics\n",
    "semilogy(w,aresptAMOT);\n",
    "set(gcf, 'PaperSize', [6 4.5]);\n",
    "set(gca(),'xlim', [0 pi])\n",
    "set(gca,'XTick',2*pi./per)\n",
    "set(gca,'XTickLabel',{'\\infty','63','21','9','5.25','4.2','3.5','2.86363','2.52','2'})\n",
    "set (gca(), \"xgrid\", \"on\");\n",
    "set(gca,'GridLineStyle','--')\n",
    "hold on\n",
    "semilogy(w,aresptAMO);\n",
    "title(sprintf('AR-spectrum of AMOT. AR(%g)',LAGS0))\n",
    "xlabel('period (in years)')\n",
    "ylabel('AR-spectrum (in logs)')\n",
    "print -dpdf -color AMOTspectrum.pdf"
   ]
  },
  {
   "cell_type": "code",
   "execution_count": null,
   "metadata": {},
   "outputs": [],
   "source": [
    "plot([amon,A])"
   ]
  },
  {
   "cell_type": "code",
   "execution_count": null,
   "metadata": {
    "scrolled": false
   },
   "outputs": [],
   "source": [
    "PaP = 63./[0,1,3,7,12,15,18,22,25,31];\n",
    "#PaP = [inf, 68, 63./[1,3,7,12,15,18,22,25,31]]\n",
    "format long\n",
    "[VARz,Pz,TVPz,oarz,k,kk,kkk]=autodhr(zz,p,[],rgar,PaP,[1,1;1,0],0)"
   ]
  },
  {
   "cell_type": "code",
   "execution_count": null,
   "metadata": {
    "scrolled": false
   },
   "outputs": [],
   "source": [
    "[TrendZ,seasonZ,cycleZ,irregZ]=dhrfilt(zz,Pz,TVPz,VARz,p,1,1);"
   ]
  },
  {
   "cell_type": "code",
   "execution_count": null,
   "metadata": {},
   "outputs": [],
   "source": [
    "length(y(7:end))\n",
    "length(zz)"
   ]
  },
  {
   "cell_type": "code",
   "execution_count": null,
   "metadata": {},
   "outputs": [],
   "source": [
    "size(cycleZ)\n",
    "P,Pz"
   ]
  },
  {
   "cell_type": "code",
   "execution_count": null,
   "metadata": {},
   "outputs": [],
   "source": [
    "J=1;  # (para 5 o más J+1 en cycle)\n",
    "plot([cycle(7:end,J),cycleZ(1:end-5,J)])"
   ]
  },
  {
   "cell_type": "code",
   "execution_count": null,
   "metadata": {},
   "outputs": [],
   "source": [
    "plot([irreg(7:end),irregZ(1:end-5)])"
   ]
  },
  {
   "cell_type": "code",
   "execution_count": null,
   "metadata": {},
   "outputs": [],
   "source": [
    "length(Z)"
   ]
  },
  {
   "cell_type": "code",
   "execution_count": null,
   "metadata": {},
   "outputs": [],
   "source": [
    "plotyy(1:160,Trend(7:end,1),1:160,Z(:,2))"
   ]
  },
  {
   "cell_type": "code",
   "execution_count": null,
   "metadata": {},
   "outputs": [],
   "source": [
    "plotyy(1:160,TrendZ(1:end-5,1),1:160,Z(:,2))"
   ]
  },
  {
   "cell_type": "code",
   "execution_count": null,
   "metadata": {},
   "outputs": [],
   "source": [
    "plot([Trend(7:end,1),TrendZ(1:end-5,1)-20.7,Z(:,2)])"
   ]
  },
  {
   "cell_type": "code",
   "execution_count": null,
   "metadata": {},
   "outputs": [],
   "source": [
    "plot([Trend(7:end,1)+irreg(7:end),TrendZ(1:end-5,1)-20.7+irregZ(1:end-5)])"
   ]
  },
  {
   "cell_type": "code",
   "execution_count": null,
   "metadata": {},
   "outputs": [],
   "source": [
    "[ARSPTZ, SZ, LAGSZ, ARZ, ROOTSZ, NORMZ, PZ] = aresp(TrendZ,rgar,0,2);"
   ]
  },
  {
   "cell_type": "code",
   "execution_count": null,
   "metadata": {},
   "outputs": [],
   "source": [
    "[s,i]=sort(P0,'descend');\n",
    "format bank\n",
    "n=27;\n",
    "n=length(P0)\n",
    "R=[[1:n]',[P0,NORM0](i(1:n),:)];\n",
    "R(R(:,3)>.97,:)"
   ]
  },
  {
   "cell_type": "code",
   "execution_count": null,
   "metadata": {},
   "outputs": [],
   "source": [
    "AMO(1,1)"
   ]
  },
  {
   "cell_type": "code",
   "execution_count": null,
   "metadata": {},
   "outputs": [],
   "source": [
    "gta(1,1)"
   ]
  },
  {
   "cell_type": "code",
   "execution_count": null,
   "metadata": {},
   "outputs": [],
   "source": [
    "help aresp"
   ]
  },
  {
   "cell_type": "code",
   "execution_count": null,
   "metadata": {},
   "outputs": [],
   "source": []
  }
 ],
 "metadata": {
  "kernelspec": {
   "display_name": "Octave",
   "language": "octave",
   "name": "octave"
  },
  "language_info": {
   "file_extension": ".m",
   "help_links": [
    {
     "text": "GNU Octave",
     "url": "https://www.gnu.org/software/octave/support.html"
    },
    {
     "text": "Octave Kernel",
     "url": "https://github.com/Calysto/octave_kernel"
    },
    {
     "text": "MetaKernel Magics",
     "url": "https://metakernel.readthedocs.io/en/latest/source/README.html"
    }
   ],
   "mimetype": "text/x-octave",
   "name": "octave",
   "version": "6.2.0"
  }
 },
 "nbformat": 4,
 "nbformat_minor": 4
}
