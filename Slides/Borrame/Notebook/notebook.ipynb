{
 "cells": [
  {
   "cell_type": "markdown",
   "metadata": {},
   "source": [
    "#  Global Annual Temperature Anomalies (degrees C) 1850-2015"
   ]
  },
  {
   "cell_type": "markdown",
   "metadata": {},
   "source": [
    "_Parece que los notebooks no están muy perfecionados (o mi instalación tiene problemas). Algunos comandos fallan la primera vez que se ejecutan._"
   ]
  },
  {
   "cell_type": "markdown",
   "metadata": {},
   "source": [
    "Para el filtrado (filtro de Kalman y suavizado de intervalo fijo) usaremos la toolbok [E4](https://www.ucm.es/e-4/), para ello es necesario ejecutar lo siguiente:"
   ]
  },
  {
   "cell_type": "code",
   "execution_count": 1,
   "metadata": {},
   "outputs": [
    {
     "name": "stdout",
     "output_type": "stream",
     "text": [
      "\r\n",
      "            XXXXXX 4 4      XXXXX  XX     XX  XX  XXXXXX (c)\r\n",
      "           XX      444     XX  XX XX     XX  XX  XX\r\n",
      "          XXXX       4    XXXXX  XX     XX  XX  XXXXXX\r\n",
      "         XX              XX     XX     XX  XX      XX\r\n",
      "        XXXXXX          XX     XXXXXX XXXXXX  XXXXXX\r\n",
      "\r\n",
      "    Toolbox for State Space Estimation of Econometric Models\r\n",
      " \r\n",
      "*********************** Options set by user ********************\r\n",
      "Filter. . . . . . . . . . . . . : KALMAN\r\n",
      "Scaled B and M matrices . . . . : NO\r\n",
      "Initial state vector. . . . . . : AUTOMATIC SELECTION\r\n",
      "Initial covariance of state v.  : IDEJONG\r\n",
      "Variance or Cholesky factor?  . : VARIANCE\r\n",
      "Optimization algorithm. . . . . : BFGS\r\n",
      "Maximum step length . . . . . . : 0.100000\r\n",
      "Stop tolerance. . . . . . . . . : 0.000010\r\n",
      "Max. number of iterations . . . :       75\r\n",
      "Verbose iterations. . . . . . . : YES\r\n",
      "****************************************************************\r\n",
      " \r\n",
      " \r\n"
     ]
    }
   ],
   "source": [
    "clear\n",
    "e4init"
   ]
  },
  {
   "cell_type": "markdown",
   "metadata": {},
   "source": [
    "Tambien es necesario cargar el toolbox de control"
   ]
  },
  {
   "cell_type": "code",
   "execution_count": 2,
   "metadata": {},
   "outputs": [],
   "source": [
    "pkg load control"
   ]
  },
  {
   "cell_type": "markdown",
   "metadata": {},
   "source": [
    "Cargamos los datos de la serie _\"lineas aéreas\"_"
   ]
  },
  {
   "cell_type": "code",
   "execution_count": 3,
   "metadata": {},
   "outputs": [],
   "source": [
    "load gta.data"
   ]
  },
  {
   "cell_type": "markdown",
   "metadata": {},
   "source": [
    "La decimo cuarta columna de GTA contiene los datos anuales. Por comodidad vamos a generar la variable 'y' con dichos datos"
   ]
  },
  {
   "cell_type": "code",
   "execution_count": 4,
   "metadata": {},
   "outputs": [],
   "source": [
    "y = gta(:,14);"
   ]
  },
  {
   "cell_type": "markdown",
   "metadata": {},
   "source": [
    "y ahora vamos a representar los datos de la serie"
   ]
  },
  {
   "cell_type": "code",
   "execution_count": 5,
   "metadata": {},
   "outputs": [
    {
     "name": "stderr",
     "output_type": "stream",
     "text": [
      "\u001b[0;31mInline plot failed, consider trying another graphics toolkit\n",
      "error: print: figure must be visible or qt toolkit must be used with __gl_window__ property 'on' or QT_OFFSCREEN feature available\r\n",
      "error: called from\r\n",
      "    _make_figures>safe_print at line 125 column 7\r\n",
      "    _make_figures at line 49 column 13\r\n",
      "\n",
      "\u001b[0m"
     ]
    }
   ],
   "source": [
    "%plot --format png\n",
    "figure(1)\n",
    "grid off\n",
    "hold on\n",
    "title('Global Annual Temperature Anomalies')\n",
    "plot(y, 'r')"
   ]
  },
  {
   "cell_type": "code",
   "execution_count": 6,
   "metadata": {},
   "outputs": [
    {
     "name": "stdout",
     "output_type": "stream",
     "text": [
      "warning: Invalid UTF-8 byte sequences have been replaced.\n",
      "warning: called from\n",
      "    dhr2rf at line 36 column 35\n",
      "    autodhr at line 342 column 31\n",
      "\n",
      "warning: Invalid UTF-8 byte sequences have been replaced.\n",
      "warning: called from\n",
      "    dhr2rf at line 36 column 35\n",
      "    autodhr at line 342 column 31\n",
      "\n",
      "warning: Invalid UTF-8 byte sequences have been replaced.\n",
      "warning: called from\n",
      "    thd2ss at line 36 column 36\n",
      "    thd2ssc at line 69 column 48\n",
      "    thd2ss at line 56 column 36\n",
      "    dhr2rf at line 36 column 35\n",
      "    autodhr at line 342 column 31\n",
      "\n",
      "warning: Invalid UTF-8 byte sequences have been replaced.\n",
      "warning: called from\n",
      "    thd2ss at line 36 column 36\n",
      "    thd2ssc at line 69 column 48\n",
      "    thd2ss at line 56 column 36\n",
      "    dhr2rf at line 36 column 35\n",
      "    autodhr at line 342 column 31\n",
      "\n",
      "warning: Invalid UTF-8 byte sequences have been replaced.\n",
      "warning: called from\n",
      "    dhr2rf at line 38 column 41\n",
      "    autodhr at line 342 column 31\n",
      "\n",
      "warning: Invalid UTF-8 byte sequences have been replaced.\n",
      "warning: called from\n",
      "    dhr2rf at line 38 column 41\n",
      "    autodhr at line 342 column 31\n",
      "\n",
      "VAR =\n",
      "\n",
      "   4.6580e-03   2.1466e-06\n",
      "\n",
      "P = Inf\n",
      "TVP =\n",
      "\n",
      "   1\n",
      "   1\n",
      "\n",
      "oar = 63\n"
     ]
    }
   ],
   "source": [
    "#[VAR,P,TVP,oar,results,MCNN,NVR]=autodhr(y,1,[],[50:70],[],[],0);\n",
    "[VAR,P,TVP,oar]=autodhr(y,1,[],[50:70],[],[],0)"
   ]
  },
  {
   "cell_type": "code",
   "execution_count": 7,
   "metadata": {},
   "outputs": [
    {
     "name": "stdout",
     "output_type": "stream",
     "text": [
      "warning: Invalid UTF-8 byte sequences have been replaced.\n",
      "warning: called from\n",
      "    e4trend at line 61 column 18\n",
      "    dhrfilt at line 127 column 56\n",
      "\n",
      "warning: Invalid UTF-8 byte sequences have been replaced.\n",
      "warning: called from\n",
      "    e4trend at line 61 column 18\n",
      "    dhrfilt at line 127 column 56\n",
      "\n",
      "warning: Invalid UTF-8 byte sequences have been replaced.\n",
      "warning: called from\n",
      "    thd2ss at line 46 column 36\n",
      "    fismod at line 36 column 33\n",
      "    e4trend at line 103 column 22\n",
      "    dhrfilt at line 127 column 56\n",
      "\n"
     ]
    }
   ],
   "source": [
    "[Trend,season,cycle,irreg]=dhrfilt(y,P,TVP,VAR,12,0,0);"
   ]
  },
  {
   "cell_type": "code",
   "execution_count": 8,
   "metadata": {},
   "outputs": [
    {
     "name": "stderr",
     "output_type": "stream",
     "text": [
      "\u001b[0;31mInline plot failed, consider trying another graphics toolkit\n",
      "error: print: figure must be visible or qt toolkit must be used with __gl_window__ property 'on' or QT_OFFSCREEN feature available\r\n",
      "error: called from\r\n",
      "    _make_figures>safe_print at line 125 column 7\r\n",
      "    _make_figures at line 49 column 13\r\n",
      "\n",
      "\u001b[0m"
     ]
    }
   ],
   "source": [
    "plot([Trend,y,irreg-1] )"
   ]
  },
  {
   "cell_type": "code",
   "execution_count": 9,
   "metadata": {},
   "outputs": [
    {
     "name": "stdout",
     "output_type": "stream",
     "text": [
      "ans =\n",
      "\n",
      "        Inf     1.0379\n",
      "     2.5014     1.0086\n",
      "    63.6238     0.9999\n",
      "     2.0000     0.9966\n",
      "     4.1143     0.9945\n",
      "     2.8822     0.9930\n",
      "     3.5702     0.9917\n",
      "     5.2172     0.9913\n",
      "     7.6056     0.9912\n",
      "     2.0509     0.9911\n",
      "     2.1477     0.9899\n",
      "    20.6464     0.9897\n",
      "     2.2356     0.9877\n",
      "     8.9746     0.9875\n",
      "    14.8026     0.9855\n",
      "     4.7472     0.9845\n",
      "     4.3407     0.9833\n",
      "   380.1950     0.9812\n",
      "\n",
      "ans =\n",
      "\n",
      " Columns 1 through 8:\n",
      "\n",
      "   63.0000   31.5000   21.0000   15.7500   12.6000   10.5000    9.0000    7.8750\n",
      "\n",
      " Column 9:\n",
      "\n",
      "    7.0000\n",
      "\n"
     ]
    }
   ],
   "source": [
    "[ARSPT, S, LAGS, AR, ROOTS, NORM, P] = aresp(Trend,oar);\n",
    "[s,i]=sort(NORM,'descend');\n",
    "[P,NORM](i(1:18),:)\n",
    "63./[1:9]"
   ]
  },
  {
   "cell_type": "code",
   "execution_count": 10,
   "metadata": {},
   "outputs": [
    {
     "name": "stdout",
     "output_type": "stream",
     "text": [
      "VAR =\r\n",
      "\r\n",
      "   7.1777e-03   3.6967e-06   1.3487e-04   3.2839e-06   1.6465e-05\r\n",
      "\r\n",
      "P =\r\n",
      "\r\n",
      "   Inf    63    21     9\r\n",
      "\r\n",
      "TVP =\r\n",
      "\r\n",
      "   1   1   1   1\r\n",
      "   1   0   0   0\r\n",
      "\r\n",
      "oar = 54\r\n"
     ]
    }
   ],
   "source": [
    "#[VAR,P,TVP,oar,results,MCNN,NVR]=autodhr(y,1,[],[50:80],[inf,63,21,9],[1, 1 ; 1, 0],0)\n",
    "[VAR,P,TVP,oar]=autodhr(y,1,[],[50:70],[inf,63,21,9])"
   ]
  },
  {
   "cell_type": "code",
   "execution_count": 11,
   "metadata": {},
   "outputs": [
    {
     "name": "stderr",
     "output_type": "stream",
     "text": [
      "\u001b[0;31mInline plot failed, consider trying another graphics toolkit\n",
      "error: print: figure must be visible or qt toolkit must be used with __gl_window__ property 'on' or QT_OFFSCREEN feature available\r\n",
      "error: called from\r\n",
      "    _make_figures>safe_print at line 125 column 7\r\n",
      "    _make_figures at line 49 column 13\r\n",
      "\n",
      "\u001b[0m"
     ]
    }
   ],
   "source": [
    "[Trend,season,cycle,irreg]=dhrfilt(y,P,TVP,VAR,12,0,1);"
   ]
  },
  {
   "cell_type": "code",
   "execution_count": 12,
   "metadata": {},
   "outputs": [
    {
     "name": "stderr",
     "output_type": "stream",
     "text": [
      "\u001b[0;31mInline plot failed, consider trying another graphics toolkit\n",
      "error: print: figure must be visible or qt toolkit must be used with __gl_window__ property 'on' or QT_OFFSCREEN feature available\r\n",
      "error: called from\r\n",
      "    _make_figures>safe_print at line 125 column 7\r\n",
      "    _make_figures at line 49 column 13\r\n",
      "\n",
      "\u001b[0m"
     ]
    }
   ],
   "source": [
    "plot([Trend] )"
   ]
  },
  {
   "cell_type": "code",
   "execution_count": 13,
   "metadata": {},
   "outputs": [
    {
     "name": "stderr",
     "output_type": "stream",
     "text": [
      "\u001b[0;31mInline plot failed, consider trying another graphics toolkit\n",
      "error: print: figure must be visible or qt toolkit must be used with __gl_window__ property 'on' or QT_OFFSCREEN feature available\r\n",
      "error: called from\r\n",
      "    _make_figures>safe_print at line 125 column 7\r\n",
      "    _make_figures at line 49 column 13\r\n",
      "\n",
      "\u001b[0m"
     ]
    }
   ],
   "source": [
    "plot([Trend(:,2),y,cycle+0.7,irreg-1] )"
   ]
  },
  {
   "cell_type": "code",
   "execution_count": 14,
   "metadata": {},
   "outputs": [
    {
     "name": "stderr",
     "output_type": "stream",
     "text": [
      "\u001b[0;31mInline plot failed, consider trying another graphics toolkit\n",
      "error: print: figure must be visible or qt toolkit must be used with __gl_window__ property 'on' or QT_OFFSCREEN feature available\r\n",
      "error: called from\r\n",
      "    _make_figures>safe_print at line 125 column 7\r\n",
      "    _make_figures at line 49 column 13\r\n",
      "\n",
      "\u001b[0m"
     ]
    }
   ],
   "source": [
    "plot([Trend(:,2)+cycle,y] )"
   ]
  },
  {
   "cell_type": "code",
   "execution_count": null,
   "metadata": {},
   "outputs": [],
   "source": []
  }
 ],
 "metadata": {
  "kernelspec": {
   "display_name": "Octave",
   "language": "octave",
   "name": "octave"
  },
  "language_info": {
   "file_extension": ".m",
   "help_links": [
    {
     "text": "GNU Octave",
     "url": "https://www.gnu.org/software/octave/support.html"
    },
    {
     "text": "Octave Kernel",
     "url": "https://github.com/Calysto/octave_kernel"
    },
    {
     "text": "MetaKernel Magics",
     "url": "https://metakernel.readthedocs.io/en/latest/source/README.html"
    }
   ],
   "mimetype": "text/x-octave",
   "name": "octave",
   "version": "6.2.0"
  }
 },
 "nbformat": 4,
 "nbformat_minor": 4
}
