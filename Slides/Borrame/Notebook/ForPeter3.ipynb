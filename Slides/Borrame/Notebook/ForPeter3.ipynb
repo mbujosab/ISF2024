{
 "cells": [
  {
   "cell_type": "markdown",
   "metadata": {},
   "source": [
    "#  GTA (1850-2015) and AMO (1857-2015)"
   ]
  },
  {
   "cell_type": "markdown",
   "metadata": {},
   "source": [
    "For filtering (Kalman filter and fixed interval smoothing) I will use toolbok [E4](https://www.ucm.es/e-4/):"
   ]
  },
  {
   "cell_type": "code",
   "execution_count": 7,
   "metadata": {},
   "outputs": [
    {
     "name": "stdout",
     "output_type": "stream",
     "text": [
      "\r\n",
      "            XXXXXX 4 4      XXXXX  XX     XX  XX  XXXXXX (c)\r\n",
      "           XX      444     XX  XX XX     XX  XX  XX\r\n",
      "          XXXX       4    XXXXX  XX     XX  XX  XXXXXX\r\n",
      "         XX              XX     XX     XX  XX      XX\r\n",
      "        XXXXXX          XX     XXXXXX XXXXXX  XXXXXX\r\n",
      "\r\n",
      "    Toolbox for State Space Estimation of Econometric Models\r\n",
      " \r\n",
      "*********************** Options set by user ********************\r\n",
      "Filter. . . . . . . . . . . . . : KALMAN\r\n",
      "Scaled B and M matrices . . . . : NO\r\n",
      "Initial state vector. . . . . . : AUTOMATIC SELECTION\r\n",
      "Initial covariance of state v.  : IDEJONG\r\n",
      "Variance or Cholesky factor?  . : VARIANCE\r\n",
      "Optimization algorithm. . . . . : BFGS\r\n",
      "Maximum step length . . . . . . : 0.100000\r\n",
      "Stop tolerance. . . . . . . . . : 0.000010\r\n",
      "Max. number of iterations . . . :       75\r\n",
      "Verbose iterations. . . . . . . : YES\r\n",
      "****************************************************************\r\n",
      " \r\n",
      " \r\n"
     ]
    }
   ],
   "source": [
    "clear\n",
    "e4init"
   ]
  },
  {
   "cell_type": "markdown",
   "metadata": {},
   "source": [
    "It is also necessary to load the control toolbox"
   ]
  },
  {
   "cell_type": "code",
   "execution_count": 8,
   "metadata": {},
   "outputs": [],
   "source": [
    "pkg load control"
   ]
  },
  {
   "cell_type": "markdown",
   "metadata": {},
   "source": [
    "We load `gta.data` that I have download from [Global and Hemispheric Temperature Anomalies - Land and Marine Instrumental Records](https://cdiac.ess-dive.lbl.gov/trends/temp/jonescru/jones.html) "
   ]
  },
  {
   "cell_type": "code",
   "execution_count": 9,
   "metadata": {},
   "outputs": [],
   "source": [
    "load gta.data"
   ]
  },
  {
   "cell_type": "markdown",
   "metadata": {},
   "source": [
    "The fourteenth column of `gta` matrix contains the annual data for the years 1850--2015. For convenience I define the variable `y` with the annual data (i.e. periodicity one: `p=1`)."
   ]
  },
  {
   "cell_type": "code",
   "execution_count": 10,
   "metadata": {},
   "outputs": [],
   "source": [
    "y = gta(:,14);\n",
    "p = 1;"
   ]
  },
  {
   "cell_type": "markdown",
   "metadata": {},
   "source": [
    "Professor Peter C. Young has kindly sent me the following data sets. "
   ]
  },
  {
   "cell_type": "code",
   "execution_count": 11,
   "metadata": {},
   "outputs": [],
   "source": [
    "load data4Marcos.mat % GTA and TRF (1857-2015)"
   ]
  },
  {
   "cell_type": "code",
   "execution_count": 12,
   "metadata": {},
   "outputs": [],
   "source": [
    "load amo4Marcos.mat  % AMO (1857-2015)"
   ]
  },
  {
   "cell_type": "code",
   "execution_count": 13,
   "metadata": {},
   "outputs": [],
   "source": [
    "%%plot gnuplot"
   ]
  },
  {
   "cell_type": "code",
   "execution_count": 14,
   "metadata": {
    "scrolled": false
   },
   "outputs": [],
   "source": [
    "plot([Z,amon])"
   ]
  },
  {
   "cell_type": "markdown",
   "metadata": {},
   "source": [
    "... better if the figures are inserted in the notebook itself in 'png' format..."
   ]
  },
  {
   "cell_type": "code",
   "execution_count": 15,
   "metadata": {},
   "outputs": [],
   "source": [
    "%%plot --format png"
   ]
  },
  {
   "cell_type": "markdown",
   "metadata": {},
   "source": [
    "I'll try to improve the graph"
   ]
  },
  {
   "cell_type": "code",
   "execution_count": 16,
   "metadata": {},
   "outputs": [],
   "source": [
    "#y=Z(:,1);\n",
    "dates = gta(:,1);    # first column of gta contains the years\n",
    "yr = datenum (dates,1,1);\n",
    "plot(yr, y, 'r')\n",
    "set (gca(), \"xtick\", datenum (1850:15:2022,1,1));\n",
    "datetick (\"x\", \"YYYY\", \"keepticks\");\n",
    "set (gca(), \"xgrid\", \"on\");\n",
    "set(gca,'GridLineStyle','--')\n",
    "hold on\n",
    "ylim([-1.3, 1])\n",
    "title('Global Annual Temperature Anomalies (degrees C) 1850-2015')\n",
    "box off;"
   ]
  },
  {
   "cell_type": "markdown",
   "metadata": {},
   "source": [
    "## A DHR model for GTA series (first attempt)"
   ]
  },
  {
   "cell_type": "markdown",
   "metadata": {},
   "source": [
    "I will define a range of AR orders to work with. Since the data are annual, it is better to use long autoregressive orders to avoid identifying noisy trends (I want the pseudo-spectrum of the trend component to be close to a spectral peak very close to the vertical axis, and this is only possible if we use a high order autoregressive polynomial)."
   ]
  },
  {
   "cell_type": "code",
   "execution_count": 17,
   "metadata": {},
   "outputs": [],
   "source": [
    "rgar = [51:70];"
   ]
  },
  {
   "cell_type": "markdown",
   "metadata": {},
   "source": [
    "If we do not indicate an a priori model, and also the periodicity of the data is annual `(p=1)`, then the `LDHR` toolbox will try to fit (_whenever possible_) an IRW trend plus an irregular component model."
   ]
  },
  {
   "cell_type": "code",
   "execution_count": 18,
   "metadata": {},
   "outputs": [
    {
     "name": "stdout",
     "output_type": "stream",
     "text": [
      "warning: Invalid UTF-8 byte sequences have been replaced.\n",
      "warning: called from\n",
      "    dhr2rf at line 36 column 35\n",
      "    autodhr at line 342 column 31\n",
      "\n",
      "warning: Invalid UTF-8 byte sequences have been replaced.\n",
      "warning: called from\n",
      "    dhr2rf at line 36 column 35\n",
      "    autodhr at line 342 column 31\n",
      "\n",
      "warning: Invalid UTF-8 byte sequences have been replaced.\n",
      "warning: called from\n",
      "    thd2ss at line 36 column 36\n",
      "    thd2ssc at line 69 column 48\n",
      "    thd2ss at line 56 column 36\n",
      "    dhr2rf at line 36 column 35\n",
      "    autodhr at line 342 column 31\n",
      "\n",
      "warning: Invalid UTF-8 byte sequences have been replaced.\n",
      "warning: called from\n",
      "    thd2ss at line 36 column 36\n",
      "    thd2ssc at line 69 column 48\n",
      "    thd2ss at line 56 column 36\n",
      "    dhr2rf at line 36 column 35\n",
      "    autodhr at line 342 column 31\n",
      "\n",
      "warning: Invalid UTF-8 byte sequences have been replaced.\n",
      "warning: called from\n",
      "    dhr2rf at line 38 column 41\n",
      "    autodhr at line 342 column 31\n",
      "\n",
      "warning: Invalid UTF-8 byte sequences have been replaced.\n",
      "warning: called from\n",
      "    dhr2rf at line 38 column 41\n",
      "    autodhr at line 342 column 31\n",
      "\n",
      "VAR0 =\n",
      "\n",
      "   4.658045203166136e-03   2.146566701538700e-06\n",
      "\n",
      "P0 = Inf\n",
      "TVP0 =\n",
      "\n",
      "   1\n",
      "   1\n",
      "\n",
      "oar0 = 63\n",
      "NVR = 4.608299421567762e-04\n"
     ]
    }
   ],
   "source": [
    "format long\n",
    "[VAR0,P0,TVP0,oar0]=autodhr(y,p,[],rgar)\n",
    "NVR = VAR0(2)/VAR0(1)"
   ]
  },
  {
   "cell_type": "markdown",
   "metadata": {},
   "source": [
    "`TVP` indicates two unit roots for a component with periodicity `P=Inf`, that is, an IRW trend. VAR contains the estimated variances, `oar` is the order of the AR polinomial used to identify and adjust the model."
   ]
  },
  {
   "cell_type": "markdown",
   "metadata": {},
   "source": [
    "Using this model, we filter the series (by Fixed-Interval Smoothing) to obtain the components"
   ]
  },
  {
   "cell_type": "code",
   "execution_count": 19,
   "metadata": {},
   "outputs": [
    {
     "name": "stdout",
     "output_type": "stream",
     "text": [
      "warning: Invalid UTF-8 byte sequences have been replaced.\n",
      "warning: called from\n",
      "    e4trend at line 61 column 18\n",
      "    dhrfilt at line 127 column 56\n",
      "\n",
      "warning: Invalid UTF-8 byte sequences have been replaced.\n",
      "warning: called from\n",
      "    e4trend at line 61 column 18\n",
      "    dhrfilt at line 127 column 56\n",
      "\n",
      "warning: Invalid UTF-8 byte sequences have been replaced.\n",
      "warning: called from\n",
      "    thd2ss at line 46 column 36\n",
      "    fismod at line 36 column 33\n",
      "    e4trend at line 103 column 22\n",
      "    dhrfilt at line 127 column 56\n",
      "\n"
     ]
    }
   ],
   "source": [
    "[Trend0,season0,cycle0,irreg0]=dhrfilt(y,P0,TVP0,VAR0,p,0,0);"
   ]
  },
  {
   "cell_type": "markdown",
   "metadata": {},
   "source": [
    "Let's draw them (to make the figure clearer, I will move down the irregular component)."
   ]
  },
  {
   "cell_type": "code",
   "execution_count": 20,
   "metadata": {},
   "outputs": [],
   "source": [
    "plot(yr, Trend0, '-b', \"linewidth\", 4)\n",
    "set (gca(), \"xtick\", datenum (1850:15:2015,1,1));\n",
    "datetick (\"x\", \"YYYY\", \"keepticks\");\n",
    "set (gca(), \"xgrid\", \"on\");\n",
    "set(gca,'GridLineStyle','--')\n",
    "hold on\n",
    "plot(yr, y,'-r')\n",
    "plot(yr, irreg0-1)\n",
    "plot(yr, -ones(length(y)), ':k')\n",
    "ylim([-1.3, 1])\n",
    "title('Estimated trend and irregular component (shifted -1 units)')\n",
    "box off;"
   ]
  },
  {
   "cell_type": "markdown",
   "metadata": {},
   "source": [
    "The trend shows a cyclical behaviour. We can fit an AR polynomial and observe the periodicity associated with the roots of higher modulus and lower frequencies; we then find a cycle of about 63 years."
   ]
  },
  {
   "cell_type": "code",
   "execution_count": 21,
   "metadata": {},
   "outputs": [],
   "source": [
    "[ARSPT0, S0, LAGS0, AR0, ROOTS0, NORM0, P0] = aresp(Trend0,rgar,0);"
   ]
  },
  {
   "cell_type": "markdown",
   "metadata": {},
   "source": [
    "I will show the periodicities of the roots associated to lower frequencies and norms greater than 0.985"
   ]
  },
  {
   "cell_type": "code",
   "execution_count": 22,
   "metadata": {},
   "outputs": [
    {
     "name": "stdout",
     "output_type": "stream",
     "text": [
      "ans =\r\n",
      "\r\n",
      "     1.00      Inf     1.04\r\n",
      "     2.00   327.35     0.99\r\n",
      "     3.00    63.62     1.00\r\n",
      "     4.00    21.52     0.99\r\n",
      "     8.00     9.11     0.99\r\n",
      "    12.00     5.25     0.99\r\n",
      "    15.00     4.14     0.99\r\n",
      "    17.00     3.55     0.99\r\n",
      "    20.00     2.88     0.99\r\n",
      "    23.00     2.49     1.00\r\n",
      "    26.00     2.15     0.99\r\n",
      "    27.00     2.04     1.00\r\n",
      "\r\n"
     ]
    }
   ],
   "source": [
    "[s,i]=sort(P0,'descend');\n",
    "format bank\n",
    "n=length(P0);\n",
    "R=[[1:n]',[P0,NORM0](i(1:n),:)];\n",
    "R(R(:,3)>.985,:)"
   ]
  },
  {
   "cell_type": "code",
   "execution_count": 23,
   "metadata": {},
   "outputs": [
    {
     "name": "stdout",
     "output_type": "stream",
     "text": [
      "warning: Non-positive limit for logarithmic axis ignored\r\n"
     ]
    }
   ],
   "source": [
    "#63./[1:31] % all harmonics\n",
    "#lcm(21*4, 9*4, 5.25*4)/4\n",
    "#63./[3,7,12]\n",
    "\n",
    "[arespt,w]=esptarma(1,AR0);\n",
    "per=63./[0,1,3,7,12,15,18,22,25,31];   % selected harmonics\n",
    "semilogy(w,arespt);\n",
    "set(gca,'XTick',2*pi./per)\n",
    "set(gca,'XTickLabel',{'Inf','63','21','9','5.25','4.2','3.5','2.86','2.52','2.03'})\n",
    "set (gca(), \"xgrid\", \"on\");\n",
    "set(gca,'GridLineStyle','--')\n",
    "title(sprintf('f(w): Ar-Espectro de la Tendencia inicial de GTA. AR(%g)',LAGS0))\n",
    "xlabel('period (in years)')\n",
    "ylabel('f(w) (Escala en logs)')"
   ]
  },
  {
   "cell_type": "markdown",
   "metadata": {},
   "source": [
    "From this exploration of the data, it appears that there is a 63 year cycle and several harmonics\n",
    "\n",
    "Hence, `PaP` will be the \"_a priori_\" periodicity of our DHR components model"
   ]
  },
  {
   "cell_type": "code",
   "execution_count": 24,
   "metadata": {},
   "outputs": [
    {
     "name": "stdout",
     "output_type": "stream",
     "text": [
      "PaP =\r\n",
      "\r\n",
      "     Inf   63.00   21.00    9.00    5.25    4.20    3.50    2.86    2.52    2.03\r\n",
      "\r\n"
     ]
    }
   ],
   "source": [
    "format bank\n",
    "PaP = 63./[0,1,3,7,12,15,18,22,25,31] "
   ]
  },
  {
   "cell_type": "markdown",
   "metadata": {},
   "source": [
    "Let's try to identify and estimate the parameters of a DHR model \n",
    "\n",
    "I will only provide \"_a priori_\" periodicities `PaP`, the range `rgar` of AR polinomials to explore, the periodicity of the data, i.e. `p=1` (anual data), and the data itself `y`."
   ]
  },
  {
   "cell_type": "code",
   "execution_count": 25,
   "metadata": {},
   "outputs": [
    {
     "name": "stdout",
     "output_type": "stream",
     "text": [
      "VAR =\r\n",
      "\r\n",
      " Columns 1 through 3:\r\n",
      "\r\n",
      "   1.269316838490171e-03   2.504158752336266e-07   4.789119643723519e-06\r\n",
      "\r\n",
      " Columns 4 through 6:\r\n",
      "\r\n",
      "   7.829299091809946e-06   1.212707750623201e-05   4.955304465038746e-06\r\n",
      "\r\n",
      " Columns 7 through 9:\r\n",
      "\r\n",
      "   2.158923818838853e-05   2.397675184599739e-06   4.108799268284472e-06\r\n",
      "\r\n",
      " Columns 10 and 11:\r\n",
      "\r\n",
      "   4.270389081699910e-06   3.893251747927233e-06\r\n",
      "\r\n",
      "P =\r\n",
      "\r\n",
      " Columns 1 through 3:\r\n",
      "\r\n",
      "                     Inf   6.300000000000000e+01   2.100000000000000e+01\r\n",
      "\r\n",
      " Columns 4 through 6:\r\n",
      "\r\n",
      "   9.000000000000000e+00   5.250000000000000e+00   4.200000000000000e+00\r\n",
      "\r\n",
      " Columns 7 through 9:\r\n",
      "\r\n",
      "   3.500000000000000e+00   2.863636363636364e+00   2.520000000000000e+00\r\n",
      "\r\n",
      " Column 10:\r\n",
      "\r\n",
      "   2.032258064516129e+00\r\n",
      "\r\n",
      "TVP =\r\n",
      "\r\n",
      "   1   1   1   1   1   1   1   1   1   1\r\n",
      "   1   0   0   0   0   0   0   0   0   0\r\n",
      "\r\n",
      "oar = 60\r\n"
     ]
    }
   ],
   "source": [
    "format long\n",
    "[VAR,P,TVP,oar]=autodhr(y,1,[],rgar,PaP)"
   ]
  },
  {
   "cell_type": "markdown",
   "metadata": {},
   "source": [
    "It seems to work! Using the roots of an AR polynomial of order 60, it identifies an IRW trend and three RW cyclic components."
   ]
  },
  {
   "cell_type": "markdown",
   "metadata": {},
   "source": [
    "Let's obtain the components by filtering the series:"
   ]
  },
  {
   "cell_type": "code",
   "execution_count": 26,
   "metadata": {},
   "outputs": [],
   "source": [
    "[Trend,season,cycle,irreg]=dhrfilt(y,P,TVP,VAR,p,2,0);"
   ]
  },
  {
   "cell_type": "code",
   "execution_count": 27,
   "metadata": {},
   "outputs": [],
   "source": [
    "plot(Trend)"
   ]
  },
  {
   "cell_type": "code",
   "execution_count": 28,
   "metadata": {},
   "outputs": [],
   "source": [
    "plot([cycle(:,1),cycle(:,2)]) % full cycle and and the harmonic of period 63"
   ]
  },
  {
   "cell_type": "markdown",
   "metadata": {},
   "source": [
    "As can be seen in the following figure, the Trend-Cycle fits the evolution of the series quite well"
   ]
  },
  {
   "cell_type": "code",
   "execution_count": 29,
   "metadata": {},
   "outputs": [
    {
     "name": "stdout",
     "output_type": "stream",
     "text": [
      "warning: Non-positive limit for logarithmic axis ignored\r\n"
     ]
    }
   ],
   "source": [
    "plot(yr, Trend(:,1)+cycle(:,1), '-k', \"linewidth\", 4)\n",
    "set (gca(), \"xtick\", datenum (1850:15:2022,1,1));\n",
    "datetick (\"x\", \"YYYY\", \"keepticks\");\n",
    "set (gca(), \"xgrid\", \"on\");\n",
    "set(gca,'GridLineStyle','--')\n",
    "hold on\n",
    "plot(yr, y,'-r')\n",
    "plot(yr, irreg-1)\n",
    "plot(yr, -ones(length(y)), ':k')\n",
    "ylim([-1.3, 1])\n",
    "title('Estimated Trend-Cycle and irregular component (shifted -1 units)')\n",
    "box off;"
   ]
  },
  {
   "cell_type": "markdown",
   "metadata": {},
   "source": [
    "Although I think it is much more illustrative to plot the long-term Trend on the one hand, and the Cycle on the other.\n",
    "\n",
    "it seems that the _Cycle_ apparently replicates the behaviour of the [Atlantic Multidecadal Oscillation (AMO)](https://www.psl.noaa.gov/data/timeseries/AMO/) (but I need AMO data to check)."
   ]
  },
  {
   "cell_type": "code",
   "execution_count": 30,
   "metadata": {},
   "outputs": [
    {
     "name": "stdout",
     "output_type": "stream",
     "text": [
      "warning: Non-positive limit for logarithmic axis ignored\r\n"
     ]
    }
   ],
   "source": [
    "plot(yr, Trend(:,1), '-k', \"linewidth\", 4)\n",
    "set (gca(), \"xtick\", datenum (1850:15:2022,1,1));\n",
    "datetick (\"x\", \"YYYY\", \"keepticks\");\n",
    "set (gca(), \"xgrid\", \"on\");\n",
    "set(gca,'GridLineStyle','--')\n",
    "hold on\n",
    "plot(yr, y,'-r')\n",
    "plot(yr, irreg-1)\n",
    "plot(yr, -ones(length(y)), ':k')\n",
    "plot(yr, cycle(:,1)+0.7, '-b')\n",
    "plot(yr, cycle(:,2)+0.7,'--k')\n",
    "plot(yr, ones(length(y))*.7, ':k')\n",
    "ylim([-1.3, 1])\n",
    "title('Estimated Trend, Cycle (shifted +0.7 units) and irregular component (shifted -1 units)')\n",
    "box off;"
   ]
  },
  {
   "cell_type": "markdown",
   "metadata": {},
   "source": [
    "## A DHR model for AMO series (first attempt)"
   ]
  },
  {
   "cell_type": "markdown",
   "metadata": {},
   "source": [
    "Let's try the same with AMO series (Atlantic Multidecadal Oscillation)"
   ]
  },
  {
   "cell_type": "code",
   "execution_count": 31,
   "metadata": {},
   "outputs": [
    {
     "name": "stdout",
     "output_type": "stream",
     "text": [
      "warning: Non-positive limit for logarithmic axis ignored\r\n"
     ]
    }
   ],
   "source": [
    "yramon = datenum (dates(7:end),1,1);\n",
    "plot(yramon, amon(:,1), '-r', \"linewidth\", 1)\n",
    "set (gca(), \"xtick\", datenum (1857:15:2022,1,1));\n",
    "datetick (\"x\", \"YYYY\", \"keepticks\");\n",
    "set (gca(), \"xgrid\", \"on\");\n",
    "set(gca,'GridLineStyle','--')\n",
    "hold on\n",
    "ylim([-1.3, 1])\n",
    "title('Atlantic Multidecadal Oscillation 1857-2015')\n",
    "box off;"
   ]
  },
  {
   "cell_type": "code",
   "execution_count": 32,
   "metadata": {
    "scrolled": true
   },
   "outputs": [
    {
     "name": "stdout",
     "output_type": "stream",
     "text": [
      "\n",
      "\n"
     ]
    }
   ],
   "source": [
    "[VARamo0,Pamo0,TVPamo0,oaramo0]=autodhr(amon,p,[],rgar)"
   ]
  },
  {
   "cell_type": "markdown",
   "metadata": {},
   "source": [
    "This AMO series is linearly detrended data. Nevertheless, DHR identify just only a trend component. When we see it it clear that this IRW trend captures a smooth cycle."
   ]
  },
  {
   "cell_type": "code",
   "execution_count": 33,
   "metadata": {},
   "outputs": [
    {
     "name": "stdout",
     "output_type": "stream",
     "text": [
      "error: 'Pamo0' undefined near line 1, column 1\r\n"
     ]
    }
   ],
   "source": [
    "[TrendAMO0,seasonAMO0,cycleAMO0,irregAMO0]=dhrfilt(amon,Pamo0,TVPamo0,VARamo0,p,2);"
   ]
  },
  {
   "cell_type": "code",
   "execution_count": 34,
   "metadata": {},
   "outputs": [
    {
     "name": "stdout",
     "output_type": "stream",
     "text": [
      "error: 'TrendAMO0' undefined near line 1, column 1\n",
      "error: 'irregAMO0' undefined near line 1, column 1\n",
      "warning: Non-positive limit for logarithmic axis ignored\n"
     ]
    }
   ],
   "source": [
    "yramon = datenum (dates(7:end),1,1);\n",
    "plot(yramon, TrendAMO0(:,1)+cycleAMO0(:,1), '-b', \"linewidth\", 4)\n",
    "set (gca(), \"xtick\", datenum (1857:15:2022,1,1));\n",
    "datetick (\"x\", \"YYYY\", \"keepticks\");\n",
    "set (gca(), \"xgrid\", \"on\");\n",
    "set(gca,'GridLineStyle','--')\n",
    "hold on\n",
    "plot(yramon, amon,'-r')\n",
    "plot(yramon, irregAMO0-1)\n",
    "plot(yramon, -ones(length(amon)), ':k')\n",
    "ylim([-1.3, 1])\n",
    "title('Estimated trend and irregular component (shifted -1 units)')\n",
    "box off;"
   ]
  },
  {
   "cell_type": "markdown",
   "metadata": {},
   "source": [
    "# There is something suspicious"
   ]
  },
  {
   "cell_type": "markdown",
   "metadata": {},
   "source": [
    "It resembles the 63-years cycle GTA component, but is not as regular as the GTA cycle. Mainly at the first part of the sample. Why? I guess both the \"Global Temperature\" and the Atlantic Ocean must be warmed by the sun and both must be affected by \"Radiative Forcing Inputs\". So why does the AMO show a different oscillation pattern?"
   ]
  },
  {
   "cell_type": "code",
   "execution_count": 35,
   "metadata": {},
   "outputs": [
    {
     "name": "stdout",
     "output_type": "stream",
     "text": [
      "error: 'TrendAMO0' undefined near line 1, column 1\r\n"
     ]
    }
   ],
   "source": [
    "plot(TrendAMO0)"
   ]
  },
  {
   "cell_type": "markdown",
   "metadata": {},
   "source": [
    "The AMO data has been linearly de-trended, but we have seen that the GTA has a non-linear trend. If we subtract a linear trend from the very first GTA trend, what does it look like?"
   ]
  },
  {
   "cell_type": "code",
   "execution_count": 36,
   "metadata": {},
   "outputs": [],
   "source": [
    "plot(detrend(Trend0(7:end),1))"
   ]
  },
  {
   "cell_type": "markdown",
   "metadata": {},
   "source": [
    "__My guess:__ the cycles of GTA and AMO looks like no so similar due to the \"de-trending procedure\" of AMO data\n",
    "\n",
    "In fact, we can find in the AMO series some harmonics of the 63-year cycle (in particular those associated with the 21- and 9-year cycles)."
   ]
  },
  {
   "cell_type": "code",
   "execution_count": 37,
   "metadata": {},
   "outputs": [
    {
     "name": "stdout",
     "output_type": "stream",
     "text": [
      "ans =\r\n",
      "\r\n",
      "    1.00     Inf    0.99\r\n",
      "    2.00   67.08    1.00\r\n",
      "    3.00   30.66    0.98\r\n",
      "    4.00   21.08    0.98\r\n",
      "    8.00    9.00    1.00\r\n",
      "    9.00    7.37    1.00\r\n",
      "   11.00    5.99    0.99\r\n",
      "   12.00    5.38    0.98\r\n",
      "   13.00    5.07    0.98\r\n",
      "   16.00    4.05    0.99\r\n",
      "   17.00    3.77    0.99\r\n",
      "   18.00    3.55    1.00\r\n",
      "   19.00    3.32    0.98\r\n",
      "   20.00    3.18    0.98\r\n",
      "   22.00    2.86    1.00\r\n",
      "   24.00    2.65    0.98\r\n",
      "   25.00    2.49    0.99\r\n",
      "   27.00    2.29    0.99\r\n",
      "   28.00    2.20    0.99\r\n",
      "   30.00    2.09    0.99\r\n",
      "   31.00    2.00    1.00\r\n",
      "\r\n"
     ]
    }
   ],
   "source": [
    "[ARSPT, S, LAGS, AR, ROOTS, NORM, P] = aresp(amon,[58:70],0,0);\n",
    "\n",
    "[s,i]=sort(P,'descend');\n",
    "format bank\n",
    "n=length(P);\n",
    "R=[[1:n]',[P,NORM](i(1:n),:)];\n",
    "R(R(:,3)>.98,:)"
   ]
  },
  {
   "cell_type": "code",
   "execution_count": 38,
   "metadata": {},
   "outputs": [],
   "source": [
    "[arespt,w]=esptarma(1,AR);\n",
    "per=63./[0,1,3,7,12,15,18,22,25,31]; % harmonics selected from the analysis of the GTA series\n",
    "semilogy(w,arespt);\n",
    "set(gca,'XTick',2*pi./per)\n",
    "set(gca,'XTickLabel',{'Inf','63','21','9','5.25','4.2','3.5','2.86','2.52','2.03'})\n",
    "set (gca(), \"xgrid\", \"on\");\n",
    "set(gca,'GridLineStyle','--')\n",
    "title(sprintf('f(w): Ar-Espectro de la Tendencia inicial de AMO. AR(%g)',LAGS))\n",
    "xlabel('period (in years)')\n",
    "ylabel('f(w) (Escala en logs)')"
   ]
  },
  {
   "cell_type": "markdown",
   "metadata": {},
   "source": [
    "Therefore, if my guess is correct, although the 63-year cycle of the AMO series is very much affected by the de-trending process, the other harmonics should be there. \n",
    "\n",
    "So, let's try with a DHR model for AMO that leaves the cycles longer that 21 year in the trend"
   ]
  },
  {
   "cell_type": "code",
   "execution_count": 39,
   "metadata": {},
   "outputs": [
    {
     "name": "stdout",
     "output_type": "stream",
     "text": [
      "PaP =\r\n",
      "\r\n",
      "     Inf   21.00    9.00    5.25    4.20    3.50    2.86    2.52    2.03\r\n",
      "\r\n"
     ]
    }
   ],
   "source": [
    "format bank\n",
    "PaP = 63./[0,3,7,12,15,18,22,25,31]    # without 63 cycle for AMO"
   ]
  },
  {
   "cell_type": "code",
   "execution_count": 40,
   "metadata": {},
   "outputs": [
    {
     "name": "stdout",
     "output_type": "stream",
     "text": [
      "VAR =\r\n",
      "\r\n",
      " Columns 1 through 3:\r\n",
      "\r\n",
      "   1.040512707088203e-02   1.029261361500811e-05   2.891383552680393e-05\r\n",
      "\r\n",
      " Columns 4 through 6:\r\n",
      "\r\n",
      "   1.306375565383388e-05   2.657449708426246e-05   1.147135085989245e-05\r\n",
      "\r\n",
      " Columns 7 through 9:\r\n",
      "\r\n",
      "   1.584639953027698e-05   2.260898820176219e-05   2.492320084617676e-05\r\n",
      "\r\n",
      " Column 10:\r\n",
      "\r\n",
      "   4.359045722603054e-05\r\n",
      "\r\n",
      "P =\r\n",
      "\r\n",
      " Columns 1 through 3:\r\n",
      "\r\n",
      "                     Inf   2.100000000000000e+01   9.000000000000000e+00\r\n",
      "\r\n",
      " Columns 4 through 6:\r\n",
      "\r\n",
      "   5.250000000000000e+00   4.200000000000000e+00   3.500000000000000e+00\r\n",
      "\r\n",
      " Columns 7 through 9:\r\n",
      "\r\n",
      "   2.863636363636364e+00   2.520000000000000e+00   2.032258064516129e+00\r\n",
      "\r\n",
      "TVP =\r\n",
      "\r\n",
      "   1   1   1   1   1   1   1   1   1\r\n",
      "   1   0   0   0   0   0   0   0   0\r\n",
      "\r\n",
      "oar = 58\r\n"
     ]
    }
   ],
   "source": [
    "format long\n",
    "[VAR,P,TVP,oar]=autodhr(amon,p,[],rgar,PaP,[1,1;1,0],1) % I will force the model"
   ]
  },
  {
   "cell_type": "code",
   "execution_count": 41,
   "metadata": {},
   "outputs": [],
   "source": [
    "[TrendAMO,seasonAMO,cycleAMO,irregAMO]=dhrfilt(amon,P,TVP,VAR,p,2,0);"
   ]
  },
  {
   "cell_type": "code",
   "execution_count": 42,
   "metadata": {},
   "outputs": [],
   "source": [
    "plot(TrendAMO)"
   ]
  },
  {
   "cell_type": "code",
   "execution_count": 43,
   "metadata": {},
   "outputs": [],
   "source": [
    "plot(cycleAMO(:,1))"
   ]
  },
  {
   "cell_type": "code",
   "execution_count": 44,
   "metadata": {},
   "outputs": [],
   "source": [
    "plot(irregAMO)"
   ]
  },
  {
   "cell_type": "code",
   "execution_count": 45,
   "metadata": {},
   "outputs": [
    {
     "name": "stdout",
     "output_type": "stream",
     "text": [
      "warning: Non-positive limit for logarithmic axis ignored\r\n"
     ]
    }
   ],
   "source": [
    "yramon = datenum (dates(7:end),1,1);\n",
    "plot(yramon, TrendAMO(:,1)+cycleAMO(:,1), '-k', \"linewidth\", 4)\n",
    "set (gca(), \"xtick\", datenum (1857:15:2022,1,1));\n",
    "datetick (\"x\", \"YYYY\", \"keepticks\");\n",
    "set (gca(), \"xgrid\", \"on\");\n",
    "set(gca,'GridLineStyle','--')\n",
    "hold on\n",
    "plot(yramon, amon,'-r')\n",
    "plot(yramon, irregAMO-1)\n",
    "plot(yramon, -ones(length(amon)), ':k')\n",
    "ylim([-1.3, 1])\n",
    "title('Estimated Trend-Cycle for AMO and irregular component (shifted -1 units)')\n",
    "box off;"
   ]
  },
  {
   "cell_type": "code",
   "execution_count": 46,
   "metadata": {},
   "outputs": [
    {
     "name": "stdout",
     "output_type": "stream",
     "text": [
      "warning: Non-positive limit for logarithmic axis ignored\r\n"
     ]
    }
   ],
   "source": [
    "yramon = datenum (dates(7:end),1,1);\n",
    "plot(yramon, TrendAMO(:,1), '-k', \"linewidth\", 4)\n",
    "set (gca(), \"xtick\", datenum (1857:15:2022,1,1));\n",
    "datetick (\"x\", \"YYYY\", \"keepticks\");\n",
    "set (gca(), \"xgrid\", \"on\");\n",
    "set(gca,'GridLineStyle','--')\n",
    "hold on\n",
    "plot(yramon, amon,'-r')\n",
    "plot(yramon, irregAMO-1)\n",
    "plot(yramon, -ones(length(amon)), ':k')\n",
    "plot(yramon, cycleAMO(:,1)+0.7, '-b')\n",
    "ylim([-1.3, 1])\n",
    "title('Estimated Trend, cycle and irregular components for AMO series (shifted -1 units)')\n",
    "box off;"
   ]
  },
  {
   "cell_type": "markdown",
   "metadata": {},
   "source": [
    "# Without the 63-year harmonic, both cycles look similar.\n",
    "\n",
    "The estimated cycles for the GTA and AMO series with 21-year oscillations or less are quite similar."
   ]
  },
  {
   "cell_type": "code",
   "execution_count": 47,
   "metadata": {},
   "outputs": [],
   "source": [
    "plot(yramon, cycleAMO(:,1), '-k')\n",
    "set (gca(), \"xtick\", datenum (1857:15:2022,1,1));\n",
    "datetick (\"x\", \"YYYY\", \"keepticks\");\n",
    "set (gca(), \"xgrid\", \"on\");\n",
    "set(gca,'GridLineStyle','--')\n",
    "hold on\n",
    "plot(yramon, sum(cycle(7:end,3:end),2),'-b')\n",
    "title('Estimated cycle componentes for GTA and AMO series (only oscilations of 21 years or less)')\n",
    "box off;"
   ]
  },
  {
   "cell_type": "code",
   "execution_count": 48,
   "metadata": {},
   "outputs": [],
   "source": [
    "plot(yramon, irregAMO, '-k')\n",
    "set (gca(), \"xtick\", datenum (1857:15:2022,1,1));\n",
    "datetick (\"x\", \"YYYY\", \"keepticks\");\n",
    "set (gca(), \"xgrid\", \"on\");\n",
    "set(gca,'GridLineStyle','--')\n",
    "hold on\n",
    "plot(yramon, irreg(7:end,1),'-b')\n",
    "title('Irregular components for GTA and AMO series')\n",
    "box off;"
   ]
  },
  {
   "cell_type": "code",
   "execution_count": 49,
   "metadata": {},
   "outputs": [
    {
     "name": "stdout",
     "output_type": "stream",
     "text": [
      "warning: Non-positive limit for logarithmic axis ignored\r\n"
     ]
    }
   ],
   "source": [
    "TC=Trend(:,1)+cycle(:,2);\n",
    "plot(yramon, TC(7:end), '-k')\n",
    "set (gca(), \"xtick\", datenum (1857:15:2022,1,1));\n",
    "datetick (\"x\", \"YYYY\", \"keepticks\");\n",
    "set (gca(), \"xgrid\", \"on\");\n",
    "set(gca,'GridLineStyle','--')\n",
    "hold on\n",
    "plot(yramon, TrendAMO,'-r')\n",
    "ylim([-1.3, 1])\n",
    "title('Estimated Trend-Cycle components (including oscilations of 63 years or more) for GTA and AMO')\n",
    "box off;"
   ]
  },
  {
   "cell_type": "markdown",
   "metadata": {},
   "source": [
    "If we linearly de-trend the trend-cycle of GTA we get the following graph"
   ]
  },
  {
   "cell_type": "code",
   "execution_count": 50,
   "metadata": {
    "scrolled": false
   },
   "outputs": [
    {
     "name": "stdout",
     "output_type": "stream",
     "text": [
      "warning: Non-positive limit for logarithmic axis ignored\r\n"
     ]
    }
   ],
   "source": [
    "TC=Trend(:,1)+cycle(:,2);\n",
    "plot(yramon, TrendAMO,'-r')\n",
    "set (gca(), \"xtick\", datenum (1857:15:2022,1,1));\n",
    "datetick (\"x\", \"YYYY\", \"keepticks\");\n",
    "set (gca(), \"xgrid\", \"on\");\n",
    "set(gca,'GridLineStyle','--')\n",
    "hold on\n",
    "plot(yramon, (detrend(TC,1))(7:end),'-b')\n",
    "ylim([-1.3, 1])\n",
    "title('Estimated Cycle components (with oscilations of 63 years or more)')\n",
    "box off;"
   ]
  },
  {
   "cell_type": "markdown",
   "metadata": {},
   "source": [
    "Therefore, perhaps the modelling of the TRF, GTA and AMO will improve and simplify by using the AMO data before the linear de-trending process (I do not know if the original AMO data are available). Otherwise, since the frequency and phase of the AMO cycles are modified,  that modelling is affected."
   ]
  },
  {
   "cell_type": "markdown",
   "metadata": {},
   "source": [
    "# The following is no correct, but it ilustrates my point\n",
    "\n",
    "Imagine that the GTA linear trend is the same line that was subtracted from the original AMO data. Then we can add the GTA linear trend to the AMO data to recover the original Ocenan Atlantic surface temperature data (I am sure those linear trend are not the same, but imagine both are the same line)."
   ]
  },
  {
   "cell_type": "code",
   "execution_count": 51,
   "metadata": {},
   "outputs": [],
   "source": [
    "plot(y)"
   ]
  },
  {
   "cell_type": "code",
   "execution_count": 52,
   "metadata": {},
   "outputs": [],
   "source": [
    "z=y-detrend(y,1);\n",
    "w=z(7:end)+amon;"
   ]
  },
  {
   "cell_type": "markdown",
   "metadata": {},
   "source": [
    "So, let's plot GTA and AMO (with its \"recovered\" linear trend)  (`w` is the new AMO)"
   ]
  },
  {
   "cell_type": "code",
   "execution_count": 53,
   "metadata": {},
   "outputs": [],
   "source": [
    "plot([y(7:end),w])"
   ]
  },
  {
   "cell_type": "markdown",
   "metadata": {},
   "source": [
    "Now we can estimate the DHR model trying to get its 63-years cycle"
   ]
  },
  {
   "cell_type": "code",
   "execution_count": 54,
   "metadata": {},
   "outputs": [],
   "source": [
    "PaP = 63./[0,1,3,7,12,15,18,22,25,31];\n",
    "format long\n",
    "[VARw,Pw,TVPw,oarw]=autodhr(w,p,[],rgar,PaP,[1,1;1,0],1);"
   ]
  },
  {
   "cell_type": "code",
   "execution_count": 55,
   "metadata": {},
   "outputs": [],
   "source": [
    "[TrendW,seasonW,cycleW,irregW]=dhrfilt(w,Pw,TVPw,VARw,p,2,0);"
   ]
  },
  {
   "cell_type": "code",
   "execution_count": 56,
   "metadata": {},
   "outputs": [],
   "source": [
    "J=2;\n",
    "plot([cycle(7:end,J),cycleW(:,J)])"
   ]
  },
  {
   "cell_type": "markdown",
   "metadata": {},
   "source": [
    "# My point\n",
    "\n",
    "As you can see, the cycles of period 63 are shifted but they are very similar. What I mean is that __I am afraid that by subtracting a linear trend the authors of the data have modified the properties of the cycle.__\n",
    "\n",
    "As you can see, the cycles of period 63 are shifted but they are very similar. What I mean is that I am afraid that by subtracting a linear trend the authors of the data have modified the properties of the cycle. \n",
    "\n",
    "So probably, the original AMO cycles are more similar to the GTA cycles than it seems in the published data (something that we can see with the harmonics corresponding to the cycles shorter than 63 years; since the spectral peaks for those harmonics are not so close to zero, the de-trending filter is not so harmful for them).\n",
    "\n",
    "I don't know if I have made myself clear."
   ]
  },
  {
   "cell_type": "code",
   "execution_count": 57,
   "metadata": {},
   "outputs": [],
   "source": [
    "plot([cycle(7:end,1),cycleW(:,1)])"
   ]
  },
  {
   "cell_type": "code",
   "execution_count": 58,
   "metadata": {},
   "outputs": [],
   "source": [
    "plot([Trend(7:end,1),TrendW(:,1)])"
   ]
  },
  {
   "cell_type": "code",
   "execution_count": 59,
   "metadata": {},
   "outputs": [
    {
     "name": "stdout",
     "output_type": "stream",
     "text": [
      "'detrend' is a function from the file /usr/share/octave/6.2.0/m/signal/detrend.m\r\n",
      "\r\n",
      " -- detrend (X, P)\r\n",
      "     If X is a vector, 'detrend (X, P)' removes the best fit of a\r\n",
      "     polynomial of order P from the data X.\r\n",
      "\r\n",
      "     If X is a matrix, 'detrend (X, P)' does the same for each column in\r\n",
      "     X.\r\n",
      "\r\n",
      "     The second argument P is optional.  If it is not specified, a value\r\n",
      "     of 1 is assumed.  This corresponds to removing a linear trend.\r\n",
      "\r\n",
      "     The order of the polynomial can also be given as a string, in which\r\n",
      "     case P must be either \"constant\" (corresponds to 'P=0') or \"linear\"\r\n",
      "     (corresponds to 'P=1').\r\n",
      "\r\n",
      "     See also: polyfit.\r\n",
      "\r\n",
      "Additional help for built-in functions and operators is\r\n",
      "available in the online version of the manual.  Use the command\r\n",
      "'doc <topic>' to search the manual index.\r\n",
      "\r\n",
      "Help and information about Octave is also available on the WWW\r\n",
      "at https://www.octave.org and via the help@octave.org\r\n",
      "mailing list.\r\n"
     ]
    }
   ],
   "source": [
    "help detrend"
   ]
  },
  {
   "cell_type": "code",
   "execution_count": null,
   "metadata": {},
   "outputs": [],
   "source": []
  }
 ],
 "metadata": {
  "kernelspec": {
   "display_name": "Octave",
   "language": "octave",
   "name": "octave"
  },
  "language_info": {
   "file_extension": ".m",
   "help_links": [
    {
     "text": "GNU Octave",
     "url": "https://www.gnu.org/software/octave/support.html"
    },
    {
     "text": "Octave Kernel",
     "url": "https://github.com/Calysto/octave_kernel"
    },
    {
     "text": "MetaKernel Magics",
     "url": "https://metakernel.readthedocs.io/en/latest/source/README.html"
    }
   ],
   "mimetype": "text/x-octave",
   "name": "octave",
   "version": "6.2.0"
  }
 },
 "nbformat": 4,
 "nbformat_minor": 4
}
